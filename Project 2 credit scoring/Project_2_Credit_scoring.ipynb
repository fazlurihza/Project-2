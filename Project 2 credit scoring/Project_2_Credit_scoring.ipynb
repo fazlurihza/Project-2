{
  "cells": [
    {
      "cell_type": "markdown",
      "metadata": {
        "id": "3F0Z-fjoYi9o"
      },
      "source": [
        "# Pendahuluan\n",
        "\n",
        "Proyek ini bertujuan untuk menganalisis dataset yang berisi informasi tentang nasabah yang mengajukan pinjaman di sebuah bank. Tujuan utama dari proyek ini adalah untuk mendapatkan wawasan tentang faktor-faktor apa saja yang berpengaruh terhadap kemungkinan nasabah melakukan gagal bayar pinjaman. Melalui analisis data yang mendalam, kami akan mencoba menjawab beberapa pertanyaan dan menguji hipotesis berikut:\n",
        "\n",
        "1. Apakah terdapat korelasi antara memiliki anak dengan probabilitas melakukan gagal bayar pinjaman?\n",
        "\n",
        "2. Apakah terdapat korelasi antara status keluarga dengan probabilitas melakukan gagal bayar pinjaman?\n",
        "\n",
        "3. Bagaimana tujuan kredit memengaruhi persentase gagal bayar?\n",
        "\n",
        "4. Apakah terdapat korelasi antara tingkat pendapatan dengan probabilitas melakukan gagal bayar pinjaman?\n",
        "\n",
        "Melalui analisis ini, kita berharap dapat mengidentifikasi faktor-faktor yang paling berpengaruh terhadap kemungkinan gagal bayar pinjaman dan memberikan wawasan yang berguna bagi perusahaan dalam mengambil keputusan terkait pemberian pinjaman."
      ]
    },
    {
      "cell_type": "code",
      "execution_count": null,
      "metadata": {
        "id": "TB0YRAtNYi9r"
      },
      "outputs": [],
      "source": [
        "import pandas as pd # Muat semua library\n"
      ]
    },
    {
      "cell_type": "code",
      "execution_count": null,
      "metadata": {
        "id": "7NlcJ2koYi9s"
      },
      "outputs": [],
      "source": [
        "df = pd.read_csv('/datasets/credit_scoring_eng.csv')"
      ]
    },
    {
      "cell_type": "code",
      "execution_count": null,
      "metadata": {
        "id": "TAP3vac7Yi9t",
        "outputId": "482f2933-c4a3-414a-9d3a-fe12ae18a2fb"
      },
      "outputs": [
        {
          "data": {
            "text/plain": [
              "(21525, 12)"
            ]
          },
          "execution_count": 4,
          "metadata": {},
          "output_type": "execute_result"
        }
      ],
      "source": [
        "df.shape# Mari kita lihat berapa banyak baris dan kolom yang dimiliki oleh dataset kita\n"
      ]
    },
    {
      "cell_type": "code",
      "execution_count": null,
      "metadata": {
        "scrolled": true,
        "id": "e3KuJkU0Yi9t",
        "outputId": "dc253e17-c37d-4679-e26d-1a3887844e97"
      },
      "outputs": [
        {
          "data": {
            "text/html": [
              "<div>\n",
              "<style scoped>\n",
              "    .dataframe tbody tr th:only-of-type {\n",
              "        vertical-align: middle;\n",
              "    }\n",
              "\n",
              "    .dataframe tbody tr th {\n",
              "        vertical-align: top;\n",
              "    }\n",
              "\n",
              "    .dataframe thead th {\n",
              "        text-align: right;\n",
              "    }\n",
              "</style>\n",
              "<table border=\"1\" class=\"dataframe\">\n",
              "  <thead>\n",
              "    <tr style=\"text-align: right;\">\n",
              "      <th></th>\n",
              "      <th>children</th>\n",
              "      <th>days_employed</th>\n",
              "      <th>dob_years</th>\n",
              "      <th>education</th>\n",
              "      <th>education_id</th>\n",
              "      <th>family_status</th>\n",
              "      <th>family_status_id</th>\n",
              "      <th>gender</th>\n",
              "      <th>income_type</th>\n",
              "      <th>debt</th>\n",
              "      <th>total_income</th>\n",
              "      <th>purpose</th>\n",
              "    </tr>\n",
              "  </thead>\n",
              "  <tbody>\n",
              "    <tr>\n",
              "      <th>0</th>\n",
              "      <td>1</td>\n",
              "      <td>-8437.673028</td>\n",
              "      <td>42</td>\n",
              "      <td>bachelor's degree</td>\n",
              "      <td>0</td>\n",
              "      <td>married</td>\n",
              "      <td>0</td>\n",
              "      <td>F</td>\n",
              "      <td>employee</td>\n",
              "      <td>0</td>\n",
              "      <td>40620.102</td>\n",
              "      <td>purchase of the house</td>\n",
              "    </tr>\n",
              "    <tr>\n",
              "      <th>1</th>\n",
              "      <td>1</td>\n",
              "      <td>-4024.803754</td>\n",
              "      <td>36</td>\n",
              "      <td>secondary education</td>\n",
              "      <td>1</td>\n",
              "      <td>married</td>\n",
              "      <td>0</td>\n",
              "      <td>F</td>\n",
              "      <td>employee</td>\n",
              "      <td>0</td>\n",
              "      <td>17932.802</td>\n",
              "      <td>car purchase</td>\n",
              "    </tr>\n",
              "    <tr>\n",
              "      <th>2</th>\n",
              "      <td>0</td>\n",
              "      <td>-5623.422610</td>\n",
              "      <td>33</td>\n",
              "      <td>Secondary Education</td>\n",
              "      <td>1</td>\n",
              "      <td>married</td>\n",
              "      <td>0</td>\n",
              "      <td>M</td>\n",
              "      <td>employee</td>\n",
              "      <td>0</td>\n",
              "      <td>23341.752</td>\n",
              "      <td>purchase of the house</td>\n",
              "    </tr>\n",
              "    <tr>\n",
              "      <th>3</th>\n",
              "      <td>3</td>\n",
              "      <td>-4124.747207</td>\n",
              "      <td>32</td>\n",
              "      <td>secondary education</td>\n",
              "      <td>1</td>\n",
              "      <td>married</td>\n",
              "      <td>0</td>\n",
              "      <td>M</td>\n",
              "      <td>employee</td>\n",
              "      <td>0</td>\n",
              "      <td>42820.568</td>\n",
              "      <td>supplementary education</td>\n",
              "    </tr>\n",
              "    <tr>\n",
              "      <th>4</th>\n",
              "      <td>0</td>\n",
              "      <td>340266.072047</td>\n",
              "      <td>53</td>\n",
              "      <td>secondary education</td>\n",
              "      <td>1</td>\n",
              "      <td>civil partnership</td>\n",
              "      <td>1</td>\n",
              "      <td>F</td>\n",
              "      <td>retiree</td>\n",
              "      <td>0</td>\n",
              "      <td>25378.572</td>\n",
              "      <td>to have a wedding</td>\n",
              "    </tr>\n",
              "  </tbody>\n",
              "</table>\n",
              "</div>"
            ],
            "text/plain": [
              "   children  days_employed  dob_years            education  education_id  \\\n",
              "0         1   -8437.673028         42    bachelor's degree             0   \n",
              "1         1   -4024.803754         36  secondary education             1   \n",
              "2         0   -5623.422610         33  Secondary Education             1   \n",
              "3         3   -4124.747207         32  secondary education             1   \n",
              "4         0  340266.072047         53  secondary education             1   \n",
              "\n",
              "       family_status  family_status_id gender income_type  debt  total_income  \\\n",
              "0            married                 0      F    employee     0     40620.102   \n",
              "1            married                 0      F    employee     0     17932.802   \n",
              "2            married                 0      M    employee     0     23341.752   \n",
              "3            married                 0      M    employee     0     42820.568   \n",
              "4  civil partnership                 1      F     retiree     0     25378.572   \n",
              "\n",
              "                   purpose  \n",
              "0    purchase of the house  \n",
              "1             car purchase  \n",
              "2    purchase of the house  \n",
              "3  supplementary education  \n",
              "4        to have a wedding  "
            ]
          },
          "execution_count": 5,
          "metadata": {},
          "output_type": "execute_result"
        }
      ],
      "source": [
        "df.head(5)# Mari tampilkan N baris pertama\n",
        "\n"
      ]
    },
    {
      "cell_type": "code",
      "execution_count": null,
      "metadata": {
        "scrolled": false,
        "id": "tsITYFQFYi9u",
        "outputId": "e20ac654-27ae-41ec-dd8e-8b6e9596bd7b"
      },
      "outputs": [
        {
          "name": "stdout",
          "output_type": "stream",
          "text": [
            "<class 'pandas.core.frame.DataFrame'>\n",
            "RangeIndex: 21525 entries, 0 to 21524\n",
            "Data columns (total 12 columns):\n",
            " #   Column            Non-Null Count  Dtype  \n",
            "---  ------            --------------  -----  \n",
            " 0   children          21525 non-null  int64  \n",
            " 1   days_employed     19351 non-null  float64\n",
            " 2   dob_years         21525 non-null  int64  \n",
            " 3   education         21525 non-null  object \n",
            " 4   education_id      21525 non-null  int64  \n",
            " 5   family_status     21525 non-null  object \n",
            " 6   family_status_id  21525 non-null  int64  \n",
            " 7   gender            21525 non-null  object \n",
            " 8   income_type       21525 non-null  object \n",
            " 9   debt              21525 non-null  int64  \n",
            " 10  total_income      19351 non-null  float64\n",
            " 11  purpose           21525 non-null  object \n",
            "dtypes: float64(2), int64(5), object(5)\n",
            "memory usage: 2.0+ MB\n"
          ]
        }
      ],
      "source": [
        "df.info()# Dapatkan informasi data\n"
      ]
    },
    {
      "cell_type": "code",
      "execution_count": null,
      "metadata": {
        "id": "FrWYGfDxYi9u",
        "outputId": "35000d82-d113-414d-ff18-9e0b5d865e87"
      },
      "outputs": [
        {
          "data": {
            "text/html": [
              "<div>\n",
              "<style scoped>\n",
              "    .dataframe tbody tr th:only-of-type {\n",
              "        vertical-align: middle;\n",
              "    }\n",
              "\n",
              "    .dataframe tbody tr th {\n",
              "        vertical-align: top;\n",
              "    }\n",
              "\n",
              "    .dataframe thead th {\n",
              "        text-align: right;\n",
              "    }\n",
              "</style>\n",
              "<table border=\"1\" class=\"dataframe\">\n",
              "  <thead>\n",
              "    <tr style=\"text-align: right;\">\n",
              "      <th></th>\n",
              "      <th>children</th>\n",
              "      <th>days_employed</th>\n",
              "      <th>dob_years</th>\n",
              "      <th>education_id</th>\n",
              "      <th>family_status_id</th>\n",
              "      <th>debt</th>\n",
              "      <th>total_income</th>\n",
              "    </tr>\n",
              "  </thead>\n",
              "  <tbody>\n",
              "    <tr>\n",
              "      <th>count</th>\n",
              "      <td>21525.000000</td>\n",
              "      <td>19351.000000</td>\n",
              "      <td>21525.000000</td>\n",
              "      <td>21525.000000</td>\n",
              "      <td>21525.000000</td>\n",
              "      <td>21525.000000</td>\n",
              "      <td>19351.000000</td>\n",
              "    </tr>\n",
              "    <tr>\n",
              "      <th>mean</th>\n",
              "      <td>0.538908</td>\n",
              "      <td>63046.497661</td>\n",
              "      <td>43.293380</td>\n",
              "      <td>0.817236</td>\n",
              "      <td>0.972544</td>\n",
              "      <td>0.080883</td>\n",
              "      <td>26787.568355</td>\n",
              "    </tr>\n",
              "    <tr>\n",
              "      <th>std</th>\n",
              "      <td>1.381587</td>\n",
              "      <td>140827.311974</td>\n",
              "      <td>12.574584</td>\n",
              "      <td>0.548138</td>\n",
              "      <td>1.420324</td>\n",
              "      <td>0.272661</td>\n",
              "      <td>16475.450632</td>\n",
              "    </tr>\n",
              "    <tr>\n",
              "      <th>min</th>\n",
              "      <td>-1.000000</td>\n",
              "      <td>-18388.949901</td>\n",
              "      <td>0.000000</td>\n",
              "      <td>0.000000</td>\n",
              "      <td>0.000000</td>\n",
              "      <td>0.000000</td>\n",
              "      <td>3306.762000</td>\n",
              "    </tr>\n",
              "    <tr>\n",
              "      <th>25%</th>\n",
              "      <td>0.000000</td>\n",
              "      <td>-2747.423625</td>\n",
              "      <td>33.000000</td>\n",
              "      <td>1.000000</td>\n",
              "      <td>0.000000</td>\n",
              "      <td>0.000000</td>\n",
              "      <td>16488.504500</td>\n",
              "    </tr>\n",
              "    <tr>\n",
              "      <th>50%</th>\n",
              "      <td>0.000000</td>\n",
              "      <td>-1203.369529</td>\n",
              "      <td>42.000000</td>\n",
              "      <td>1.000000</td>\n",
              "      <td>0.000000</td>\n",
              "      <td>0.000000</td>\n",
              "      <td>23202.870000</td>\n",
              "    </tr>\n",
              "    <tr>\n",
              "      <th>75%</th>\n",
              "      <td>1.000000</td>\n",
              "      <td>-291.095954</td>\n",
              "      <td>53.000000</td>\n",
              "      <td>1.000000</td>\n",
              "      <td>1.000000</td>\n",
              "      <td>0.000000</td>\n",
              "      <td>32549.611000</td>\n",
              "    </tr>\n",
              "    <tr>\n",
              "      <th>max</th>\n",
              "      <td>20.000000</td>\n",
              "      <td>401755.400475</td>\n",
              "      <td>75.000000</td>\n",
              "      <td>4.000000</td>\n",
              "      <td>4.000000</td>\n",
              "      <td>1.000000</td>\n",
              "      <td>362496.645000</td>\n",
              "    </tr>\n",
              "  </tbody>\n",
              "</table>\n",
              "</div>"
            ],
            "text/plain": [
              "           children  days_employed     dob_years  education_id  \\\n",
              "count  21525.000000   19351.000000  21525.000000  21525.000000   \n",
              "mean       0.538908   63046.497661     43.293380      0.817236   \n",
              "std        1.381587  140827.311974     12.574584      0.548138   \n",
              "min       -1.000000  -18388.949901      0.000000      0.000000   \n",
              "25%        0.000000   -2747.423625     33.000000      1.000000   \n",
              "50%        0.000000   -1203.369529     42.000000      1.000000   \n",
              "75%        1.000000    -291.095954     53.000000      1.000000   \n",
              "max       20.000000  401755.400475     75.000000      4.000000   \n",
              "\n",
              "       family_status_id          debt   total_income  \n",
              "count      21525.000000  21525.000000   19351.000000  \n",
              "mean           0.972544      0.080883   26787.568355  \n",
              "std            1.420324      0.272661   16475.450632  \n",
              "min            0.000000      0.000000    3306.762000  \n",
              "25%            0.000000      0.000000   16488.504500  \n",
              "50%            0.000000      0.000000   23202.870000  \n",
              "75%            1.000000      0.000000   32549.611000  \n",
              "max            4.000000      1.000000  362496.645000  "
            ]
          },
          "execution_count": 7,
          "metadata": {},
          "output_type": "execute_result"
        }
      ],
      "source": [
        "df.describe()"
      ]
    },
    {
      "cell_type": "markdown",
      "metadata": {
        "id": "x_9yYnW2Yi9w"
      },
      "source": [
        "terdapat dua kolom yang memiliki nilai yang hilang, yaitu days_employed dan total_income. Sementara itu, kolom lainnya memiliki nilai non-null untuk setiap barisnya."
      ]
    },
    {
      "cell_type": "code",
      "execution_count": null,
      "metadata": {
        "scrolled": true,
        "id": "ZuOfaAFoYi9w",
        "outputId": "6c7874a3-71d2-42fa-a87f-f84b262c1fe2"
      },
      "outputs": [
        {
          "name": "stdout",
          "output_type": "stream",
          "text": [
            "0\n"
          ]
        }
      ],
      "source": [
        "missing_values = df['children'].isnull().sum() # Mari kita lihat tabel yang telah difilter dengan nilai yang hilang di kolom pertama yang mengandung data yang hilang\n",
        "print(missing_values)\n"
      ]
    },
    {
      "cell_type": "markdown",
      "metadata": {
        "id": "F15L_th9Yi9w"
      },
      "source": [
        "tidak ada nilai yang hilang. Namun, untuk memastikan apakah nilai yang hilang terdistribusi secara simetris atau tidak, perlu dilakukan penelitian lebih lanjut dengan menghitung jumlah nilai yang hilang di semua baris."
      ]
    },
    {
      "cell_type": "code",
      "execution_count": null,
      "metadata": {
        "id": "n89UGVXZYi9w",
        "outputId": "c2cd12bd-e59c-453a-9783-f7bac4be184e"
      },
      "outputs": [
        {
          "name": "stdout",
          "output_type": "stream",
          "text": [
            "0\n"
          ]
        }
      ],
      "source": [
        "filtered_df = df[df['children'].isnull()] # Mari kita terapkan beberapa kondisi untuk memfilter data dan melihat jumlah baris dalam tabel yang telah difilter.\n",
        "print(filtered_df.shape[0])\n"
      ]
    },
    {
      "cell_type": "markdown",
      "metadata": {
        "id": "q7csMd76Yi9x"
      },
      "source": [
        "**Kesimpulan sementara**\n",
        "\n",
        "[Apakah jumlah baris dalam tabel yang telah difilter sesuai dengan jumlah nilai yang hilang? Kesimpulan apa yang bisa kita buat dari hal ini?]\n",
        "\n",
        "Hitung persentase nilai yang hilang jika dibandingkan dengan keseluruhan dataset. Apakah nilai yang hilang merupakan bagian data yang cukup besar? Jika demikian, kamu sebaiknya perlu mengisi nilai yang hilang. Untuk melakukannya, pertama-tama kita harus mempertimbangkan apakah data yang hilang bisa jadi disebabkan oleh karakteristik nasabah tertentu, seperti jenis pekerjaan atau yang lainnya. Kamu harus memutuskan karakteristik mana yang menurut *kamu* mungkin merupakan penyebabnya. Kedua, kita harus memeriksa apakah ada ketergantungan nilai yang hilang pada nilai indikator lain dengan kolom-kolom yang mengidentifikasikan karakteristik tertentu nasabah.\n"
      ]
    },
    {
      "cell_type": "code",
      "execution_count": null,
      "metadata": {
        "id": "7smfm-LZYi9y"
      },
      "outputs": [],
      "source": [
        "# Mari kita periksa nasabah yang tidak memiliki data tentang karakteristik yang teridentifikasi dan kolom dengan nilai yang hilang\n",
        "missing_characteristics = df[df['income_type'] == 'unknown']"
      ]
    },
    {
      "cell_type": "code",
      "execution_count": null,
      "metadata": {
        "id": "ngKLVKe8Yi9y"
      },
      "outputs": [],
      "source": [
        "# Periksalah distribusinya\n",
        "characteristics_distribution = df['income_type'].value_counts()"
      ]
    },
    {
      "cell_type": "markdown",
      "metadata": {
        "id": "cCMxas3TYi9z"
      },
      "source": [
        "Kemungkinan penyebab hilangnya nilai dalam data:\n",
        "\n",
        "Hilang secara acak: Kemungkinan ada beberapa nilai yang hilang secara acak di beberapa kolom seperti 'days_employed', 'total_income', dan 'purpose'.\n",
        "\n",
        "Pola tertentu: Terdapat kemungkinan ada pola tertentu yang menyebabkan hilangnya nilai, seperti penghasilan yang tidak dilaporkan atau tujuan pinjaman yang tidak ditentukan dengan jelas\n",
        "\n",
        "Mari kita mulai memeriksa apakah nilai yang hilang bersifat acak."
      ]
    },
    {
      "cell_type": "code",
      "execution_count": null,
      "metadata": {
        "id": "cvYHepRFYi90",
        "outputId": "dd0e032f-797f-4740-bfb0-9b5d10b24a5d"
      },
      "outputs": [
        {
          "data": {
            "text/html": [
              "<div>\n",
              "<style scoped>\n",
              "    .dataframe tbody tr th:only-of-type {\n",
              "        vertical-align: middle;\n",
              "    }\n",
              "\n",
              "    .dataframe tbody tr th {\n",
              "        vertical-align: top;\n",
              "    }\n",
              "\n",
              "    .dataframe thead th {\n",
              "        text-align: right;\n",
              "    }\n",
              "</style>\n",
              "<table border=\"1\" class=\"dataframe\">\n",
              "  <thead>\n",
              "    <tr style=\"text-align: right;\">\n",
              "      <th></th>\n",
              "      <th>children</th>\n",
              "      <th>days_employed</th>\n",
              "      <th>dob_years</th>\n",
              "      <th>education_id</th>\n",
              "      <th>family_status_id</th>\n",
              "      <th>debt</th>\n",
              "      <th>total_income</th>\n",
              "    </tr>\n",
              "  </thead>\n",
              "  <tbody>\n",
              "    <tr>\n",
              "      <th>count</th>\n",
              "      <td>21525.000000</td>\n",
              "      <td>19351.000000</td>\n",
              "      <td>21525.000000</td>\n",
              "      <td>21525.000000</td>\n",
              "      <td>21525.000000</td>\n",
              "      <td>21525.000000</td>\n",
              "      <td>19351.000000</td>\n",
              "    </tr>\n",
              "    <tr>\n",
              "      <th>mean</th>\n",
              "      <td>0.538908</td>\n",
              "      <td>63046.497661</td>\n",
              "      <td>43.293380</td>\n",
              "      <td>0.817236</td>\n",
              "      <td>0.972544</td>\n",
              "      <td>0.080883</td>\n",
              "      <td>26787.568355</td>\n",
              "    </tr>\n",
              "    <tr>\n",
              "      <th>std</th>\n",
              "      <td>1.381587</td>\n",
              "      <td>140827.311974</td>\n",
              "      <td>12.574584</td>\n",
              "      <td>0.548138</td>\n",
              "      <td>1.420324</td>\n",
              "      <td>0.272661</td>\n",
              "      <td>16475.450632</td>\n",
              "    </tr>\n",
              "    <tr>\n",
              "      <th>min</th>\n",
              "      <td>-1.000000</td>\n",
              "      <td>-18388.949901</td>\n",
              "      <td>0.000000</td>\n",
              "      <td>0.000000</td>\n",
              "      <td>0.000000</td>\n",
              "      <td>0.000000</td>\n",
              "      <td>3306.762000</td>\n",
              "    </tr>\n",
              "    <tr>\n",
              "      <th>25%</th>\n",
              "      <td>0.000000</td>\n",
              "      <td>-2747.423625</td>\n",
              "      <td>33.000000</td>\n",
              "      <td>1.000000</td>\n",
              "      <td>0.000000</td>\n",
              "      <td>0.000000</td>\n",
              "      <td>16488.504500</td>\n",
              "    </tr>\n",
              "    <tr>\n",
              "      <th>50%</th>\n",
              "      <td>0.000000</td>\n",
              "      <td>-1203.369529</td>\n",
              "      <td>42.000000</td>\n",
              "      <td>1.000000</td>\n",
              "      <td>0.000000</td>\n",
              "      <td>0.000000</td>\n",
              "      <td>23202.870000</td>\n",
              "    </tr>\n",
              "    <tr>\n",
              "      <th>75%</th>\n",
              "      <td>1.000000</td>\n",
              "      <td>-291.095954</td>\n",
              "      <td>53.000000</td>\n",
              "      <td>1.000000</td>\n",
              "      <td>1.000000</td>\n",
              "      <td>0.000000</td>\n",
              "      <td>32549.611000</td>\n",
              "    </tr>\n",
              "    <tr>\n",
              "      <th>max</th>\n",
              "      <td>20.000000</td>\n",
              "      <td>401755.400475</td>\n",
              "      <td>75.000000</td>\n",
              "      <td>4.000000</td>\n",
              "      <td>4.000000</td>\n",
              "      <td>1.000000</td>\n",
              "      <td>362496.645000</td>\n",
              "    </tr>\n",
              "  </tbody>\n",
              "</table>\n",
              "</div>"
            ],
            "text/plain": [
              "           children  days_employed     dob_years  education_id  \\\n",
              "count  21525.000000   19351.000000  21525.000000  21525.000000   \n",
              "mean       0.538908   63046.497661     43.293380      0.817236   \n",
              "std        1.381587  140827.311974     12.574584      0.548138   \n",
              "min       -1.000000  -18388.949901      0.000000      0.000000   \n",
              "25%        0.000000   -2747.423625     33.000000      1.000000   \n",
              "50%        0.000000   -1203.369529     42.000000      1.000000   \n",
              "75%        1.000000    -291.095954     53.000000      1.000000   \n",
              "max       20.000000  401755.400475     75.000000      4.000000   \n",
              "\n",
              "       family_status_id          debt   total_income  \n",
              "count      21525.000000  21525.000000   19351.000000  \n",
              "mean           0.972544      0.080883   26787.568355  \n",
              "std            1.420324      0.272661   16475.450632  \n",
              "min            0.000000      0.000000    3306.762000  \n",
              "25%            0.000000      0.000000   16488.504500  \n",
              "50%            0.000000      0.000000   23202.870000  \n",
              "75%            1.000000      0.000000   32549.611000  \n",
              "max            4.000000      1.000000  362496.645000  "
            ]
          },
          "execution_count": 12,
          "metadata": {},
          "output_type": "execute_result"
        }
      ],
      "source": [
        "# Memeriksa distribusi di seluruh dataset\n",
        "df.describe()\n"
      ]
    },
    {
      "cell_type": "markdown",
      "metadata": {
        "id": "qEQqxsHdYi91"
      },
      "source": [
        "**Kesimpulan sementara**\n",
        "\n",
        "[Apakah distribusi dalam dataset yang asli mirip dengan distribusi tabel yang telah difilter? Apa artinya hal tersebut untuk kita?]\n",
        "\n",
        "Distribusi dalam dataset yang asli tampak serupa dengan distribusi tabel yang telah difilter. Namun, perlu diperhatikan bahwa beberapa kolom memiliki nilai minimum yang tidak masuk akal, seperti nilai negatif pada kolom days_employed dan nilai 0 pada kolom dob_years (usia nasabah). Hal ini menunjukkan adanya nilai yang tidak valid atau aneh dalam dataset.\n",
        "\n",
        "Jika menurutmu kita belum dapat membuat kesimpulan apa pun, mari kita kembali menyelidiki dataset lebih lanjut. Mari pikirkan alasan lain yang dapat menyebabkan data hilang dan periksa apakah kita dapat menemukan pola tertentu yang dapat membuat kita berpikir bahwa hilangnya nilai-nilai tersebut tidak terjadi secara acak. Karena ini merupakan tugasmu maka bagian ini adalah opsional."
      ]
    },
    {
      "cell_type": "code",
      "execution_count": null,
      "metadata": {
        "id": "Lampg94bYi91",
        "outputId": "a359cf94-57d3-48bf-fc72-0f29fa7a9379"
      },
      "outputs": [
        {
          "name": "stdout",
          "output_type": "stream",
          "text": [
            "employee         1105\n",
            "business          508\n",
            "retiree           413\n",
            "civil servant     147\n",
            "entrepreneur        1\n",
            "Name: income_type, dtype: int64\n",
            "employee         1105\n",
            "business          508\n",
            "retiree           413\n",
            "civil servant     147\n",
            "entrepreneur        1\n",
            "Name: income_type, dtype: int64\n"
          ]
        }
      ],
      "source": [
        "# Periksa penyebab dan pola lain yang dapat mengakibatkan nilai yang hilang\n",
        "days_employed_missing = df[df['days_employed'].isnull()]\n",
        "income_type_missing_days_employed = days_employed_missing['income_type'].value_counts()\n",
        "total_income_missing = df[df['total_income'].isnull()]\n",
        "income_type_missing_total_income = total_income_missing['income_type'].value_counts()\n",
        "print(income_type_missing_days_employed)\n",
        "print(income_type_missing_total_income)"
      ]
    },
    {
      "cell_type": "markdown",
      "metadata": {
        "id": "72oDSqASYi91"
      },
      "source": [
        "**Kesimpulan sementara**\n",
        "\n",
        "[Apakah pada akhirnya kita dapat memastikan bahwa nilai yang hilang adalah suatu kebetulan? Periksa hal lain yang menurutmu penting di sini.]\n",
        "\n",
        "[ada pola yang mungkin terkait dengan jenis pekerjaan dalam mengakibatkan missing value. Namun, untuk memastikan apakah hal ini hanya kebetulan atau ada faktor lain yang terkait, perlu dilakukan analisis lebih lanjut dan pemeriksaan pada faktor-faktor lain yang relevan dalam dataset, seperti status perkawinan, tingkat pendidikan, atau tujuan pinjaman.]"
      ]
    },
    {
      "cell_type": "code",
      "execution_count": null,
      "metadata": {
        "scrolled": false,
        "id": "9vIXJFnYYi91",
        "outputId": "9c4c2493-3d54-4774-a6e2-badeab7163cb"
      },
      "outputs": [
        {
          "name": "stdout",
          "output_type": "stream",
          "text": [
            "married              1237\n",
            "civil partnership     442\n",
            "unmarried             288\n",
            "divorced              112\n",
            "widow / widower        95\n",
            "Name: family_status, dtype: int64\n",
            "secondary education    1408\n",
            "bachelor's degree       496\n",
            "SECONDARY EDUCATION      67\n",
            "Secondary Education      65\n",
            "some college             55\n",
            "Bachelor's Degree        25\n",
            "BACHELOR'S DEGREE        23\n",
            "primary education        19\n",
            "Some College              7\n",
            "SOME COLLEGE              7\n",
            "Primary Education         1\n",
            "PRIMARY EDUCATION         1\n",
            "Name: education, dtype: int64\n",
            "F    1484\n",
            "M     690\n",
            "Name: gender, dtype: int64\n",
            "having a wedding                            92\n",
            "to have a wedding                           81\n",
            "wedding ceremony                            76\n",
            "construction of own property                75\n",
            "housing transactions                        74\n",
            "buy real estate                             72\n",
            "purchase of the house for my family         71\n",
            "transactions with my real estate            71\n",
            "housing renovation                          70\n",
            "transactions with commercial real estate    70\n",
            "buy commercial real estate                  67\n",
            "buying property for renting out             65\n",
            "property                                    62\n",
            "real estate transactions                    61\n",
            "buy residential real estate                 61\n",
            "housing                                     60\n",
            "building a property                         59\n",
            "cars                                        57\n",
            "going to university                         56\n",
            "to become educated                          55\n",
            "second-hand car purchase                    54\n",
            "buying my own car                           53\n",
            "to own a car                                52\n",
            "purchase of the house                       52\n",
            "to get a supplementary education            51\n",
            "getting an education                        50\n",
            "supplementary education                     48\n",
            "profile education                           47\n",
            "purchase of a car                           46\n",
            "purchase of my own house                    46\n",
            "building a real estate                      46\n",
            "car purchase                                43\n",
            "education                                   42\n",
            "buying a second-hand car                    42\n",
            "car                                         41\n",
            "university education                        40\n",
            "getting higher education                    36\n",
            "to buy a car                                30\n",
            "Name: purpose, dtype: int64\n"
          ]
        }
      ],
      "source": [
        "# Periksa pola lainnya - jelaskan pola tersebut\n",
        "df_missing = df[df.isnull().any(axis=1)]\n",
        "\n",
        "# Lihat pola distribusi pada kolom 'family_status'\n",
        "family_status_missing = df_missing['family_status'].value_counts()\n",
        "print(family_status_missing)\n",
        "# Lihat pola distribusi pada kolom 'education'\n",
        "education_missing = df_missing['education'].value_counts()\n",
        "print(education_missing)\n",
        "# Lihat pola distribusi pada kolom 'gender'\n",
        "gender_missing = df_missing['gender'].value_counts()\n",
        "print(gender_missing)\n",
        "# Lihat pola distribusi pada kolom 'purpose'\n",
        "purpose_missing = df_missing['purpose'].value_counts()\n",
        "print(purpose_missing)"
      ]
    },
    {
      "cell_type": "markdown",
      "metadata": {
        "id": "9kPmu0GrYi91"
      },
      "source": [
        "**Kesimpulan**\n",
        "\n",
        "Dari hasil distribusi pada kolom-kolom kategorikal yang memiliki nilai yang hilang, kita dapat melihat beberapa pola:\n",
        "\n",
        "Family Status: Mayoritas nilai yang hilang berasal dari kategori \"married\" dan \"civil partnership\".\n",
        "Education: Mayoritas nilai yang hilang berasal dari kategori \"secondary education\" dan \"bachelor's degree\". Terdapat variasi ejaan dan capitalization yang berbeda untuk kategori yang sama, seperti \"SECONDARY EDUCATION\" dan \"Secondary Education\".\n",
        "Gender: Mayoritas nilai yang hilang berasal dari kategori \"F\" (female).\n",
        "\n",
        "Berdasarkan pola ini, langkah selanjutnya untuk mengatasi nilai-nilai yang hilang adalah:\n",
        "\n",
        "Untuk kolom Family Status: Kita dapat mengisi nilai yang hilang dengan modus (kategori yang paling sering muncul), yaitu \"married\" atau \"civil partnership\".\n",
        "Untuk kolom Education: Kita dapat mengatasi variasi ejaan dan capitalization dengan melakukan normalisasi, misalnya dengan mengubah semua nilai menjadi huruf kecil. Selanjutnya, kita dapat mengisi nilai yang hilang dengan modus, yaitu \"secondary education\" atau \"bachelor's degree\".\n",
        "Untuk kolom Gender: Karena hanya ada dua kategori yang mungkin (male dan female), kita dapat mengisi nilai yang hilang dengan modus, yaitu \"F\".\n",
        "\n",
        "Rencanakan langkah-langkah berikutnya untuk mentransformasi data:\n",
        "\n",
        "1.Normalisasi nilai pada kolom Education dengan mengubah semua nilai menjadi huruf kecil.\n",
        "2.Mengisi nilai yang hilang pada kolom Family Status dengan modus.\n",
        "3.Mengisi nilai yang hilang pada kolom Education dengan modus setelah normalisasi.\n",
        "4.Mengisi nilai yang hilang pada kolom Gender dengan modus.\n",
        "5.Menindaklanjuti masalah-masalah lainnya yang teridentifikasi, seperti duplikat, pencatatan yang berbeda, dan sumber data yang salah."
      ]
    },
    {
      "cell_type": "markdown",
      "metadata": {
        "id": "Y9UJp9l1Yi92"
      },
      "source": [
        "## Transformasi data\n",
        "\n",
        "[Mari kita perhatikan setiap kolom untuk melihat masalah apa yang mungkin dimiliki mereka.]\n",
        "\n",
        "[Mulailah dengan menghapus duplikat dan memperbaiki data tentang informasi pendidikan jika diperlukan.]"
      ]
    },
    {
      "cell_type": "code",
      "execution_count": null,
      "metadata": {
        "id": "KfCm4_Z2Yi92",
        "outputId": "014b9460-2c28-4613-a56a-fb0537dcac12"
      },
      "outputs": [
        {
          "name": "stdout",
          "output_type": "stream",
          "text": [
            "[\"bachelor's degree\" 'secondary education' 'Secondary Education'\n",
            " 'SECONDARY EDUCATION' \"BACHELOR'S DEGREE\" 'some college'\n",
            " 'primary education' \"Bachelor's Degree\" 'SOME COLLEGE' 'Some College'\n",
            " 'PRIMARY EDUCATION' 'Primary Education' 'Graduate Degree'\n",
            " 'GRADUATE DEGREE' 'graduate degree']\n"
          ]
        }
      ],
      "source": [
        "# Mari kita lihat semua nilai di kolom pendidikan untuk memeriksa ejaan apa yang perlu diperbaiki\n",
        "unique_education_values = df['education'].unique()\n",
        "print(unique_education_values)"
      ]
    },
    {
      "cell_type": "code",
      "execution_count": null,
      "metadata": {
        "scrolled": true,
        "id": "lbDCO9g8Yi93"
      },
      "outputs": [],
      "source": [
        "# Perbaiki pencatatan jika diperlukan\n",
        "\n",
        "# Perbaiki variasi kapitalisasi dalam kolom \"education\"\n",
        "df['education'] = df['education'].str.lower()"
      ]
    },
    {
      "cell_type": "code",
      "execution_count": null,
      "metadata": {
        "id": "5gvhiBWwYi94",
        "outputId": "13b928aa-2e6e-41cf-eb35-1523fb08ad14"
      },
      "outputs": [
        {
          "name": "stdout",
          "output_type": "stream",
          "text": [
            "[\"bachelor's degree\" 'secondary education' 'some college'\n",
            " 'primary education' 'graduate degree']\n"
          ]
        }
      ],
      "source": [
        "# Periksa semua nilai di kolom untuk memastikan bahwa kita telah memperbaikinya dengan tepat\n",
        "unique_education = df['education'].unique()\n",
        "print(unique_education)"
      ]
    },
    {
      "cell_type": "code",
      "execution_count": null,
      "metadata": {
        "id": "BeAdGqwWYi95",
        "outputId": "a94e1655-2f35-4c08-ea23-b6094682209c"
      },
      "outputs": [
        {
          "name": "stdout",
          "output_type": "stream",
          "text": [
            " 0     14149\n",
            " 1      4818\n",
            " 2      2055\n",
            " 3       330\n",
            " 20       76\n",
            "-1        47\n",
            " 4        41\n",
            " 5         9\n",
            "Name: children, dtype: int64\n"
          ]
        }
      ],
      "source": [
        "# Mari kita lihat distribusi nilai pada kolom `children`\n",
        "children_distribution = df['children'].value_counts()\n",
        "print(children_distribution)"
      ]
    },
    {
      "cell_type": "markdown",
      "metadata": {
        "id": "t4AD9kGQYi95"
      },
      "source": [
        "[Apakah terdapat hal-hal yang aneh di kolom tersebut? Jika jawabannya iya, seberapa tinggi persentase data yang bermasalah? Bagaimana mereka bisa terjadi? Buat keputusan tentang apa yang akan kamu lakukan dengan data ini dan jelaskan alasannya.]\n",
        "\n",
        "[Ya, terdapat beberapa nilai yang aneh di kolom \"children\". Terdapat kemunculan nilai -1 dan 20, yang tidak masuk akal dalam konteks jumlah anak dalam keluarga. Persentase data yang bermasalah dapat dihitung dengan menjumlahkan kemunculan nilai -1 dan 20, kemudian dibagi dengan total jumlah baris data.]\n",
        "\n",
        "Persentase data yang bermasalah dapat dihitung sebagai berikut:\n",
        "\n",
        "Jumlah data yang bermasalah = jumlah kemunculan nilai -1 + jumlah kemunculan nilai 20\n",
        "Persentase data yang bermasalah = (Jumlah data yang bermasalah / Total jumlah baris data) * 100%\n",
        "\n",
        "Data yang bermasalah ini mungkin terjadi karena kesalahan input atau kekeliruan saat mengisi jumlah anak dalam keluarga. Dalam konteks ini, nilai -1 dan 20 tidak dapat dianggap valid dan perlu ditangani.\n",
        "\n",
        "Keputusan yang dapat diambil tergantung pada analisis lebih lanjut terhadap data. Beberapa opsi yang dapat dilakukan adalah:\n",
        "\n",
        "Menghapus baris yang memiliki nilai -1 atau 20, jika jumlah data yang bermasalah relatif kecil dan tidak signifikan bagi analisis yang akan dilakukan.\n",
        "Mengganti nilai -1 atau 20 dengan nilai yang valid berdasarkan konteks data, seperti menggantinya dengan nilai 0 atau 1 tergantung pada kebijakan atau aturan yang berlaku."
      ]
    },
    {
      "cell_type": "code",
      "execution_count": null,
      "metadata": {
        "id": "79YuUGIxYi95"
      },
      "outputs": [],
      "source": [
        "# [perbaiki data berdasarkan keputusanmu]\n",
        "# Mengganti nilai -1 dengan 0\n",
        "df.loc[df['children'] == -1, 'children'] = 0\n",
        "\n",
        "# Mengganti nilai 20 dengan 1\n",
        "df.loc[df['children'] == 20, 'children'] = 1"
      ]
    },
    {
      "cell_type": "code",
      "execution_count": null,
      "metadata": {
        "id": "Orj604r0Yi96",
        "outputId": "d22bdadd-92cc-45aa-da58-63f17cc33d89"
      },
      "outputs": [
        {
          "name": "stdout",
          "output_type": "stream",
          "text": [
            "0    14196\n",
            "1     4894\n",
            "2     2055\n",
            "3      330\n",
            "4       41\n",
            "5        9\n",
            "Name: children, dtype: int64\n"
          ]
        }
      ],
      "source": [
        "# Periksa kembali kolom `children` untuk memastikan bahwa semuanya telah diperbaiki\n",
        "print(df['children'].value_counts())"
      ]
    },
    {
      "cell_type": "code",
      "execution_count": null,
      "metadata": {
        "id": "A5e9Fk5-Yi96",
        "outputId": "96c6c336-fffa-4449-e221-65fd89d5cd66"
      },
      "outputs": [
        {
          "data": {
            "text/plain": [
              "count     19351.000000\n",
              "mean      63046.497661\n",
              "std      140827.311974\n",
              "min      -18388.949901\n",
              "25%       -2747.423625\n",
              "50%       -1203.369529\n",
              "75%        -291.095954\n",
              "max      401755.400475\n",
              "Name: days_employed, dtype: float64"
            ]
          },
          "execution_count": 21,
          "metadata": {},
          "output_type": "execute_result"
        }
      ],
      "source": [
        "# Temukan data yang bermasalah di kolom `days_employed` jika memang terdapat masalah dan hitung persentase\n",
        "df['days_employed'].describe()"
      ]
    },
    {
      "cell_type": "markdown",
      "metadata": {
        "id": "vQlS3Cw7Yi97"
      },
      "source": [
        "Jika jumlah data yang bermasalah tinggi, hal tersebut mungkin disebabkan oleh beberapa masalah teknis. Kita mungkin perlu mengusulkan alasan paling jelas mengapa hal tersebut dapat terjadi dan bagaimana seharusnya data yang benar, mengingat kita tidak dapat menghapus baris yang bermasalah ini."
      ]
    },
    {
      "cell_type": "code",
      "execution_count": null,
      "metadata": {
        "id": "HRZRXPwGYi97"
      },
      "outputs": [],
      "source": [
        "# Atasi nilai yang bermasalah, jika ada\n",
        "df[\"days_employed\"] = df[\"days_employed\"].abs()"
      ]
    },
    {
      "cell_type": "code",
      "execution_count": null,
      "metadata": {
        "id": "k8fKQ23_Yi97",
        "outputId": "65b8f8e9-a07a-468f-efae-31c7a5740baa"
      },
      "outputs": [
        {
          "data": {
            "text/plain": [
              "count     19351.000000\n",
              "mean      66914.728907\n",
              "std      139030.880527\n",
              "min          24.141633\n",
              "25%         927.009265\n",
              "50%        2194.220567\n",
              "75%        5537.882441\n",
              "max      401755.400475\n",
              "Name: days_employed, dtype: float64"
            ]
          },
          "execution_count": 23,
          "metadata": {},
          "output_type": "execute_result"
        }
      ],
      "source": [
        "# Periksa hasilnya - pastikan bahwa masalahnya telah diperbaiki\n",
        "df['days_employed'].describe()"
      ]
    },
    {
      "cell_type": "code",
      "execution_count": null,
      "metadata": {
        "scrolled": true,
        "id": "0SPRx0urYi98",
        "outputId": "4544795a-ec52-44d6-cf7c-1dae63db97f0"
      },
      "outputs": [
        {
          "name": "stdout",
          "output_type": "stream",
          "text": [
            "101\n",
            "0.4692218350754936\n"
          ]
        }
      ],
      "source": [
        "# Periksa `dob_years` untuk nilai yang mencurigakan dan hitung persentasenya\n",
        "min_age = 18\n",
        "max_age = 100\n",
        "suspicious_dob_years = df[(df['dob_years'] < min_age) | (df['dob_years'] > max_age)]\n",
        "suspicious_count = len(suspicious_dob_years)\n",
        "suspicious_percentage = (suspicious_count / len(df)) * 100\n",
        "print(suspicious_count)\n",
        "print(suspicious_percentage)\n"
      ]
    },
    {
      "cell_type": "markdown",
      "metadata": {
        "id": "Dc0W7BmXYi98"
      },
      "source": [
        "saya mengganti nilai yang hilang menggunkan nilai tengah (mean). Langkah ini diambil untuk memastikan integritas data dan menghindari kesalahan analisis yang mungkin terjadi jika terdapat nilai yang tidak valid atau mencurigakan dalam kolom dob_years."
      ]
    },
    {
      "cell_type": "code",
      "execution_count": null,
      "metadata": {
        "id": "e8R9xfEfYi98"
      },
      "outputs": [],
      "source": [
        "# Atasi masalah pada kolom `dob_years`, jika terdapat masalah\n",
        "suspicious_values = df[df['dob_years'] == 0]['dob_years']\n",
        "\n",
        "# Hitung nilai tengah (mean) dari kolom `dob_years`\n",
        "mean_dob_years = df['dob_years'].mean()\n",
        "\n",
        "# Ganti nilai yang mencurigakan dengan nilai tengah\n",
        "df.loc[df['dob_years'] == 0, 'dob_years'] = mean_dob_years\n"
      ]
    },
    {
      "cell_type": "code",
      "execution_count": null,
      "metadata": {
        "id": "ZJruEoRUYi99",
        "outputId": "bee0089e-d87d-4ff4-967e-b7229dd03ae5"
      },
      "outputs": [
        {
          "name": "stdout",
          "output_type": "stream",
          "text": [
            "35.00000    617\n",
            "40.00000    609\n",
            "41.00000    607\n",
            "34.00000    603\n",
            "38.00000    598\n",
            "42.00000    597\n",
            "33.00000    581\n",
            "39.00000    573\n",
            "31.00000    560\n",
            "36.00000    555\n",
            "44.00000    547\n",
            "29.00000    545\n",
            "30.00000    540\n",
            "48.00000    538\n",
            "37.00000    537\n",
            "50.00000    514\n",
            "43.00000    513\n",
            "32.00000    510\n",
            "49.00000    508\n",
            "28.00000    503\n",
            "45.00000    497\n",
            "27.00000    493\n",
            "56.00000    487\n",
            "52.00000    484\n",
            "47.00000    480\n",
            "54.00000    479\n",
            "46.00000    475\n",
            "58.00000    461\n",
            "57.00000    460\n",
            "53.00000    459\n",
            "51.00000    448\n",
            "59.00000    444\n",
            "55.00000    443\n",
            "26.00000    408\n",
            "60.00000    377\n",
            "25.00000    357\n",
            "61.00000    355\n",
            "62.00000    352\n",
            "63.00000    269\n",
            "64.00000    265\n",
            "24.00000    264\n",
            "23.00000    254\n",
            "65.00000    194\n",
            "22.00000    183\n",
            "66.00000    183\n",
            "67.00000    167\n",
            "21.00000    111\n",
            "43.29338    101\n",
            "68.00000     99\n",
            "69.00000     85\n",
            "70.00000     65\n",
            "71.00000     58\n",
            "20.00000     51\n",
            "72.00000     33\n",
            "19.00000     14\n",
            "73.00000      8\n",
            "74.00000      6\n",
            "75.00000      1\n",
            "Name: dob_years, dtype: int64\n"
          ]
        }
      ],
      "source": [
        "# Periksa hasilnya - pastikan bahwa masalahnya telah diperbaiki\n",
        "print(df['dob_years'].value_counts())"
      ]
    },
    {
      "cell_type": "code",
      "execution_count": null,
      "metadata": {
        "id": "EJaLMyYqYi9-",
        "outputId": "3bef76f9-18c5-49ac-b46d-0d0a0e8e331e"
      },
      "outputs": [
        {
          "data": {
            "text/plain": [
              "married              12380\n",
              "civil partnership     4177\n",
              "unmarried             2813\n",
              "divorced              1195\n",
              "widow / widower        960\n",
              "Name: family_status, dtype: int64"
            ]
          },
          "execution_count": 27,
          "metadata": {},
          "output_type": "execute_result"
        }
      ],
      "source": [
        "# Mari kita lihat nilai untuk kolom ini\n",
        "df['family_status'].value_counts()"
      ]
    },
    {
      "cell_type": "code",
      "execution_count": null,
      "metadata": {
        "id": "0unffKZRYi9-"
      },
      "outputs": [],
      "source": [
        "# Atasi nilai yang bermasalah di `family_status`, jika ada\n",
        "\n"
      ]
    },
    {
      "cell_type": "code",
      "execution_count": null,
      "metadata": {
        "id": "U-JLQnD_Yi9-"
      },
      "outputs": [],
      "source": [
        "# Periksa hasilnya - pastikan nilainya telah diperbaiki\n"
      ]
    },
    {
      "cell_type": "code",
      "execution_count": null,
      "metadata": {
        "id": "cTlpoI_VYi9_",
        "outputId": "b451b71d-6ed7-43d5-f78c-63eda7da81ad"
      },
      "outputs": [
        {
          "data": {
            "text/plain": [
              "F      14236\n",
              "M       7288\n",
              "XNA        1\n",
              "Name: gender, dtype: int64"
            ]
          },
          "execution_count": 30,
          "metadata": {},
          "output_type": "execute_result"
        }
      ],
      "source": [
        "# Mari kita liat nilai dalam kolom ini\n",
        "df['gender'].value_counts()"
      ]
    },
    {
      "cell_type": "code",
      "execution_count": null,
      "metadata": {
        "id": "lTqEJyc-Yi9_"
      },
      "outputs": [],
      "source": [
        "# Atasi nilai-nilai yang bermasalah, jika ada\n",
        "df = df[df['gender'] != 'XNA']"
      ]
    },
    {
      "cell_type": "code",
      "execution_count": null,
      "metadata": {
        "id": "TVfV1eS3Yi9_",
        "outputId": "c7e67e76-4e99-4c82-cb64-08cf7f51ca67"
      },
      "outputs": [
        {
          "data": {
            "text/plain": [
              "F    14236\n",
              "M     7288\n",
              "Name: gender, dtype: int64"
            ]
          },
          "execution_count": 32,
          "metadata": {},
          "output_type": "execute_result"
        }
      ],
      "source": [
        "# Periksa hasilnya - pastikan bahwa masalahnya telah diperbaiki\n",
        "df['gender'].value_counts()"
      ]
    },
    {
      "cell_type": "code",
      "execution_count": null,
      "metadata": {
        "id": "o1YChAcJYi9_",
        "outputId": "b9fd5fec-17e7-49ec-ebd7-858751ce8100"
      },
      "outputs": [
        {
          "data": {
            "text/plain": [
              "employee                       11119\n",
              "business                        5084\n",
              "retiree                         3856\n",
              "civil servant                   1459\n",
              "entrepreneur                       2\n",
              "unemployed                         2\n",
              "paternity / maternity leave        1\n",
              "student                            1\n",
              "Name: income_type, dtype: int64"
            ]
          },
          "execution_count": 33,
          "metadata": {},
          "output_type": "execute_result"
        }
      ],
      "source": [
        "# Mari kita lihat nilai dalam kolom ini\n",
        "df['income_type'].value_counts()"
      ]
    },
    {
      "cell_type": "code",
      "execution_count": null,
      "metadata": {
        "id": "QqQPA-QGYi9_"
      },
      "outputs": [],
      "source": [
        "# Atasi nilai yang bermasalah, jika ada"
      ]
    },
    {
      "cell_type": "code",
      "execution_count": null,
      "metadata": {
        "id": "IPtzkNKwYi-B"
      },
      "outputs": [],
      "source": [
        "# Periksa hasilnya - pastikan bahwa masalahnya telah diperbaiki\n",
        "\n"
      ]
    },
    {
      "cell_type": "code",
      "execution_count": null,
      "metadata": {
        "id": "BPPEuTN0Yi-B",
        "outputId": "85d703db-c687-4a02-bc44-cf9536ea9cbf"
      },
      "outputs": [
        {
          "data": {
            "text/plain": [
              "71"
            ]
          },
          "execution_count": 36,
          "metadata": {},
          "output_type": "execute_result"
        }
      ],
      "source": [
        "# Periksa duplikat\n",
        "df.duplicated().sum()"
      ]
    },
    {
      "cell_type": "code",
      "execution_count": null,
      "metadata": {
        "id": "2K45c0lHYi-B"
      },
      "outputs": [],
      "source": [
        "# Atasi duplikat, jika ada\n",
        "df.drop_duplicates(inplace=True)"
      ]
    },
    {
      "cell_type": "code",
      "execution_count": null,
      "metadata": {
        "id": "qqLuMaM3Yi-B",
        "outputId": "18048f49-d828-411b-9aab-538fa42c3a79"
      },
      "outputs": [
        {
          "data": {
            "text/plain": [
              "0"
            ]
          },
          "execution_count": 38,
          "metadata": {},
          "output_type": "execute_result"
        }
      ],
      "source": [
        "# Lakukan pemeriksaan terakhir untuk mengecek apakah kita memiliki duplikat\n",
        "df.duplicated().sum()"
      ]
    },
    {
      "cell_type": "code",
      "execution_count": null,
      "metadata": {
        "id": "ko78veXxYi-B",
        "outputId": "8440da56-c945-4524-fe6c-40cffc275733"
      },
      "outputs": [
        {
          "data": {
            "text/plain": [
              "(21453, 12)"
            ]
          },
          "execution_count": 39,
          "metadata": {},
          "output_type": "execute_result"
        }
      ],
      "source": [
        "# Periksa ukuran dataset yang sekarang kamu miliki setelah manipulasi pertama yang kamu lakukan\n",
        "df.shape"
      ]
    },
    {
      "cell_type": "markdown",
      "metadata": {
        "id": "jqKOSFh5Yi-B"
      },
      "source": [
        "[Jelaskan dataset barumu: jelaskan secara singkat apa saja perubahannya dan seberapa besar persentase perubahannya, jika ada.]\n",
        "\n",
        "[terdapat perubahan pada jumlah baris dataset setelah melakukan manipulasi data. Jumlah baris awal sebelum manipulasi adalah 21525, dan setelah manipulasi menjadi 21453. Perubahan ini menunjukkan adanya penghapusan atau pengubahan pada beberapa baris data.]"
      ]
    },
    {
      "cell_type": "code",
      "execution_count": null,
      "metadata": {
        "id": "wpfK8DwYYi-C",
        "outputId": "89bd2045-a575-4a2b-a1a5-7e9484dc8ded"
      },
      "outputs": [
        {
          "data": {
            "text/html": [
              "<div>\n",
              "<style scoped>\n",
              "    .dataframe tbody tr th:only-of-type {\n",
              "        vertical-align: middle;\n",
              "    }\n",
              "\n",
              "    .dataframe tbody tr th {\n",
              "        vertical-align: top;\n",
              "    }\n",
              "\n",
              "    .dataframe thead th {\n",
              "        text-align: right;\n",
              "    }\n",
              "</style>\n",
              "<table border=\"1\" class=\"dataframe\">\n",
              "  <thead>\n",
              "    <tr style=\"text-align: right;\">\n",
              "      <th></th>\n",
              "      <th>children</th>\n",
              "      <th>days_employed</th>\n",
              "      <th>dob_years</th>\n",
              "      <th>education</th>\n",
              "      <th>education_id</th>\n",
              "      <th>family_status</th>\n",
              "      <th>family_status_id</th>\n",
              "      <th>gender</th>\n",
              "      <th>income_type</th>\n",
              "      <th>debt</th>\n",
              "      <th>total_income</th>\n",
              "      <th>purpose</th>\n",
              "    </tr>\n",
              "  </thead>\n",
              "  <tbody>\n",
              "    <tr>\n",
              "      <th>0</th>\n",
              "      <td>1</td>\n",
              "      <td>8437.673028</td>\n",
              "      <td>42.0</td>\n",
              "      <td>bachelor's degree</td>\n",
              "      <td>0</td>\n",
              "      <td>married</td>\n",
              "      <td>0</td>\n",
              "      <td>F</td>\n",
              "      <td>employee</td>\n",
              "      <td>0</td>\n",
              "      <td>40620.102</td>\n",
              "      <td>purchase of the house</td>\n",
              "    </tr>\n",
              "    <tr>\n",
              "      <th>1</th>\n",
              "      <td>1</td>\n",
              "      <td>4024.803754</td>\n",
              "      <td>36.0</td>\n",
              "      <td>secondary education</td>\n",
              "      <td>1</td>\n",
              "      <td>married</td>\n",
              "      <td>0</td>\n",
              "      <td>F</td>\n",
              "      <td>employee</td>\n",
              "      <td>0</td>\n",
              "      <td>17932.802</td>\n",
              "      <td>car purchase</td>\n",
              "    </tr>\n",
              "    <tr>\n",
              "      <th>2</th>\n",
              "      <td>0</td>\n",
              "      <td>5623.422610</td>\n",
              "      <td>33.0</td>\n",
              "      <td>secondary education</td>\n",
              "      <td>1</td>\n",
              "      <td>married</td>\n",
              "      <td>0</td>\n",
              "      <td>M</td>\n",
              "      <td>employee</td>\n",
              "      <td>0</td>\n",
              "      <td>23341.752</td>\n",
              "      <td>purchase of the house</td>\n",
              "    </tr>\n",
              "    <tr>\n",
              "      <th>3</th>\n",
              "      <td>3</td>\n",
              "      <td>4124.747207</td>\n",
              "      <td>32.0</td>\n",
              "      <td>secondary education</td>\n",
              "      <td>1</td>\n",
              "      <td>married</td>\n",
              "      <td>0</td>\n",
              "      <td>M</td>\n",
              "      <td>employee</td>\n",
              "      <td>0</td>\n",
              "      <td>42820.568</td>\n",
              "      <td>supplementary education</td>\n",
              "    </tr>\n",
              "    <tr>\n",
              "      <th>4</th>\n",
              "      <td>0</td>\n",
              "      <td>340266.072047</td>\n",
              "      <td>53.0</td>\n",
              "      <td>secondary education</td>\n",
              "      <td>1</td>\n",
              "      <td>civil partnership</td>\n",
              "      <td>1</td>\n",
              "      <td>F</td>\n",
              "      <td>retiree</td>\n",
              "      <td>0</td>\n",
              "      <td>25378.572</td>\n",
              "      <td>to have a wedding</td>\n",
              "    </tr>\n",
              "  </tbody>\n",
              "</table>\n",
              "</div>"
            ],
            "text/plain": [
              "   children  days_employed  dob_years            education  education_id  \\\n",
              "0         1    8437.673028       42.0    bachelor's degree             0   \n",
              "1         1    4024.803754       36.0  secondary education             1   \n",
              "2         0    5623.422610       33.0  secondary education             1   \n",
              "3         3    4124.747207       32.0  secondary education             1   \n",
              "4         0  340266.072047       53.0  secondary education             1   \n",
              "\n",
              "       family_status  family_status_id gender income_type  debt  total_income  \\\n",
              "0            married                 0      F    employee     0     40620.102   \n",
              "1            married                 0      F    employee     0     17932.802   \n",
              "2            married                 0      M    employee     0     23341.752   \n",
              "3            married                 0      M    employee     0     42820.568   \n",
              "4  civil partnership                 1      F     retiree     0     25378.572   \n",
              "\n",
              "                   purpose  \n",
              "0    purchase of the house  \n",
              "1             car purchase  \n",
              "2    purchase of the house  \n",
              "3  supplementary education  \n",
              "4        to have a wedding  "
            ]
          },
          "execution_count": 40,
          "metadata": {},
          "output_type": "execute_result"
        }
      ],
      "source": [
        "df.head()"
      ]
    },
    {
      "cell_type": "markdown",
      "metadata": {
        "id": "S4AvdlBOYi-D"
      },
      "source": [
        "# Bekerja dengan nilai yang hilang"
      ]
    },
    {
      "cell_type": "markdown",
      "metadata": {
        "id": "PqRDhlb-Yi-D"
      },
      "source": [
        "[Untuk mempercepat pekerjaan dengan sejumlah data, kamu mungkin ingin menggunakan dictionary untuk beberapa nilai yang memiliki ID. Jelaskan mengapa dan dictionary manakah yang akan kamu gunakan.]\n",
        "\n",
        "[saya menggunakan dictionary untuk kolom-kolom dengan nilai yang memiliki ID, seperti kolom 'education'. Dengan menggunakan dictionary seperti ini, kita dapat dengan mudah menggantikan nilai-nilai ID dengan nilai aktual saat bekerja dengan dataset.]"
      ]
    },
    {
      "cell_type": "code",
      "execution_count": null,
      "metadata": {
        "id": "IerJPWUCYi-E"
      },
      "outputs": [],
      "source": [
        "# Temukan dictionary\n",
        "education_dict = {\n",
        "    0: \"bachelor's degree\",\n",
        "    1: \"secondary education\",\n",
        "    2: \"secondary education\",\n",
        "    3: \"secondary education\",\n",
        "    4: \"primary education\"\n",
        "}\n",
        "\n",
        "df['education'] = df['education_id'].map(education_dict)"
      ]
    },
    {
      "cell_type": "markdown",
      "metadata": {
        "id": "gAO4VZkQYi-F"
      },
      "source": [
        "### Memperbaiki nilai yang hilang di `total_income`"
      ]
    },
    {
      "cell_type": "markdown",
      "metadata": {
        "id": "LOdlg0CqYi-F"
      },
      "source": [
        "[Jelaskan secara singkat kolom dengan nilai yang hilang manakah yang perlu kamu tangani. Jelaskan bagaimana kamu akan memperbaikinya.]\n",
        "\n",
        "\n",
        "[Mulai dengan mengatasi total nilai pendapatan yang hilang. Buat kategori usia untuk nasabah. Buat kolom baru yang memuat kategori usia. Strategi ini dapat membantu untuk menghitung total nilai pendapatan.]\n"
      ]
    },
    {
      "cell_type": "code",
      "execution_count": null,
      "metadata": {
        "id": "ySOczAblYi-F"
      },
      "outputs": [],
      "source": [
        "# Mari kita tulis sebuah fungsi untuk menghitung kategori usia\n",
        "def calculate_age_category(age):\n",
        "    if age < 30:\n",
        "        return 'Young'\n",
        "    elif age < 50:\n",
        "        return 'Middle'\n",
        "    else:\n",
        "        return 'Old'"
      ]
    },
    {
      "cell_type": "code",
      "execution_count": null,
      "metadata": {
        "id": "RFDVGryIYi-F",
        "outputId": "22e4292c-f88b-4a27-f83d-5b24c5245142"
      },
      "outputs": [
        {
          "name": "stdout",
          "output_type": "stream",
          "text": [
            "Young\n",
            "Middle\n",
            "Old\n"
          ]
        }
      ],
      "source": [
        "# Lakukan pengujian untuk melihat apakah fungsimu bekerja atau tidak\n",
        "print(calculate_age_category(25))  # Output: 'Young'\n",
        "print(calculate_age_category(35))  # Output: 'Middle'\n",
        "print(calculate_age_category(55))  # Output: 'Old'"
      ]
    },
    {
      "cell_type": "code",
      "execution_count": null,
      "metadata": {
        "id": "tq-0VpQZYi-G"
      },
      "outputs": [],
      "source": [
        "# Buatlah kolom baru berdasarkan fungsi\n",
        "df['age_category'] = df['dob_years'].apply(calculate_age_category)"
      ]
    },
    {
      "cell_type": "code",
      "execution_count": null,
      "metadata": {
        "id": "-FpyYDoAYi-G",
        "outputId": "e28b8bb9-7726-4c4b-a222-c3679327eff6"
      },
      "outputs": [
        {
          "data": {
            "text/plain": [
              "Middle    11117\n",
              "Old        7157\n",
              "Young      3179\n",
              "Name: age_category, dtype: int64"
            ]
          },
          "execution_count": 45,
          "metadata": {},
          "output_type": "execute_result"
        }
      ],
      "source": [
        "# Periksa bagaimana nilai di dalam kolom baru\n",
        "df['age_category'].value_counts()"
      ]
    },
    {
      "cell_type": "code",
      "execution_count": null,
      "metadata": {
        "id": "TRmwhMPAYi-H"
      },
      "outputs": [],
      "source": [
        "# Buat tabel tanpa nilai yang hilang dan tampilkan beberapa barisnya untuk memastikan semuanya berjalan dengan baik\n",
        "clean_data = df.dropna()"
      ]
    },
    {
      "cell_type": "code",
      "execution_count": null,
      "metadata": {
        "id": "eJzXCfboYi-H",
        "outputId": "e7a14106-ad24-4f6f-a860-e82f244e3a3d"
      },
      "outputs": [
        {
          "name": "stdout",
          "output_type": "stream",
          "text": [
            "age_category\n",
            "Middle    28400.559157\n",
            "Old       24833.682909\n",
            "Young     25531.501098\n",
            "Name: total_income, dtype: float64\n"
          ]
        }
      ],
      "source": [
        "# Perhatikan nilai rata-rata untuk pendapatan berdasarkan faktor yang telah kamu identifikasi\n",
        "income_by_age_category = clean_data.groupby('age_category')['total_income'].mean()\n",
        "print(income_by_age_category)"
      ]
    },
    {
      "cell_type": "code",
      "execution_count": null,
      "metadata": {
        "scrolled": true,
        "id": "W6wYk-JeYi-H",
        "outputId": "8437fee2-d1ad-4f89-91bd-9eb7ce37e8a3"
      },
      "outputs": [
        {
          "name": "stdout",
          "output_type": "stream",
          "text": [
            "age_category\n",
            "Middle    24719.020\n",
            "Old       21387.208\n",
            "Young     22735.911\n",
            "Name: total_income, dtype: float64\n"
          ]
        }
      ],
      "source": [
        "# Perhatikan nilai median untuk pendapatan berdasarkan faktor yang telah kamu identifikasi\n",
        "income_by_age_category = clean_data.groupby('age_category')['total_income'].median()\n",
        "print(income_by_age_category)"
      ]
    },
    {
      "cell_type": "markdown",
      "metadata": {
        "id": "t0cwblfNYi-I"
      },
      "source": [
        "[Buat keputusan tentang karakteristik yang paling menentukan pendapatan dan apakah kamu akan menggunakan median atau rata-rata. Jelaskan mengapa kamu membuat keputusan ini]\n"
      ]
    },
    {
      "cell_type": "code",
      "execution_count": null,
      "metadata": {
        "id": "Tlc7ciI4Yi-I"
      },
      "outputs": [],
      "source": [
        "#  Tulis fungsi yang akan kita gunakan untuk mengisi nilai yang hilang\n",
        "def fill_missing_income(row):\n",
        "    age_category = row['age_category']\n",
        "    median_income = income_by_age_category[age_category]\n",
        "\n",
        "    if pd.isnull(row['total_income']):\n",
        "        return median_income\n",
        "    else:\n",
        "        return row['total_income']"
      ]
    },
    {
      "cell_type": "code",
      "execution_count": null,
      "metadata": {
        "id": "knJb7Nt7Yi-I",
        "outputId": "1078fb65-4497-46f3-81c4-2cf9ef5c2346"
      },
      "outputs": [
        {
          "name": "stdout",
          "output_type": "stream",
          "text": [
            "0        40620.102\n",
            "1        17932.802\n",
            "2        23341.752\n",
            "3        42820.568\n",
            "4        25378.572\n",
            "           ...    \n",
            "21520    35966.698\n",
            "21521    24959.969\n",
            "21522    14347.610\n",
            "21523    39054.888\n",
            "21524    13127.587\n",
            "Name: total_income, Length: 21453, dtype: float64\n"
          ]
        }
      ],
      "source": [
        "# Memeriksa bagaimana nilai di dalam kolom baru\n",
        "df['total_income'] = df.apply(fill_missing_income, axis=1)\n",
        "print(df['total_income'])"
      ]
    },
    {
      "cell_type": "code",
      "execution_count": null,
      "metadata": {
        "id": "Iiiscg9EYi-I"
      },
      "outputs": [],
      "source": [
        "# Terapkan fungsi tersebut ke setiap baris\n",
        "df['total_income'] = df.apply(fill_missing_income, axis=1)"
      ]
    },
    {
      "cell_type": "code",
      "execution_count": null,
      "metadata": {
        "id": "-ifJbC2lYi-I",
        "outputId": "36ec0aed-e95c-4289-fb27-e1b04fce3001"
      },
      "outputs": [
        {
          "name": "stdout",
          "output_type": "stream",
          "text": [
            "0\n"
          ]
        }
      ],
      "source": [
        "# Periksa apakah kita mendapatkan kesalahan\n",
        "print(df['total_income'].isnull().sum())"
      ]
    },
    {
      "cell_type": "code",
      "execution_count": null,
      "metadata": {
        "id": "IFKfdmKXYi-J"
      },
      "outputs": [],
      "source": [
        "# Ganti nilai yang hilang jika terdapat kesalahan\n"
      ]
    },
    {
      "cell_type": "code",
      "execution_count": null,
      "metadata": {
        "id": "eZoeaXzGYi-J",
        "outputId": "d3b2df28-cfe8-4bfd-f85d-6da9bb6f404b"
      },
      "outputs": [
        {
          "name": "stdout",
          "output_type": "stream",
          "text": [
            "Total entries in total_income column: 19350\n",
            "Total entries in other columns:\n",
            "children            19350\n",
            "days_employed       19350\n",
            "dob_years           19350\n",
            "education           19350\n",
            "education_id        19350\n",
            "family_status       19350\n",
            "family_status_id    19350\n",
            "gender              19350\n",
            "income_type         19350\n",
            "debt                19350\n",
            "purpose             19350\n",
            "age_category        19350\n",
            "dtype: int64\n"
          ]
        }
      ],
      "source": [
        "# Periksa jumlah entri di kolom\n",
        "total_income_count = clean_data['total_income'].count()\n",
        "other_columns_count = clean_data.drop('total_income', axis=1).count()\n",
        "print(f\"Total entries in total_income column: {total_income_count}\")\n",
        "print(f\"Total entries in other columns:\")\n",
        "print(other_columns_count)"
      ]
    },
    {
      "cell_type": "markdown",
      "metadata": {
        "id": "FnaXqrpEYi-K"
      },
      "source": [
        "###  Memperbaiki nilai di `days_employed`"
      ]
    },
    {
      "cell_type": "markdown",
      "metadata": {
        "id": "hZHofrJ-Yi-K"
      },
      "source": [
        "[Pikirkan tentang parameter yang dapat membantumu memperbaiki nilai yang hilang di kolom ini. Pada akhirnya, kamu akan mengetahui apakah kamu harus menggunakan nilai rata-rata atau median untuk mengganti nilai yang hilang. Kamu mungkin perlu melakukan penelitian yang sama dengan yang kamu lakukan saat memperbaiki data di kolom sebelumnya.]"
      ]
    },
    {
      "cell_type": "code",
      "execution_count": null,
      "metadata": {
        "pycharm": {
          "name": "#%%\n"
        },
        "id": "HgBBGZwJYi-K",
        "outputId": "761054fd-1b33-4a07-83f1-dff4e54713c5"
      },
      "outputs": [
        {
          "name": "stdout",
          "output_type": "stream",
          "text": [
            "education\n",
            "bachelor's degree      1895.747795\n",
            "primary education      5660.057032\n",
            "secondary education    2304.326814\n",
            "Name: days_employed, dtype: float64\n"
          ]
        }
      ],
      "source": [
        "# Distribusi median dari `days_employed` berdasarkan parameter yang kamu identifikasi\n",
        "median_days_employed_by_education = clean_data.groupby('education')['days_employed'].median()\n",
        "print(median_days_employed_by_education)"
      ]
    },
    {
      "cell_type": "code",
      "execution_count": null,
      "metadata": {
        "id": "UGX4Q8aoYi-K",
        "outputId": "f2640539-718b-4303-ede1-a34f48f9a770"
      },
      "outputs": [
        {
          "name": "stdout",
          "output_type": "stream",
          "text": [
            "education\n",
            "bachelor's degree       42375.409174\n",
            "primary education      121323.630206\n",
            "secondary education     74808.189023\n",
            "Name: days_employed, dtype: float64\n"
          ]
        }
      ],
      "source": [
        "# Distribusi rata-rata dari `days_employed` berdasarkan parameter yang kamu identifikasi\n",
        "mean_days_employed_by_education = clean_data.groupby('education')['days_employed'].mean()\n",
        "print(mean_days_employed_by_education)"
      ]
    },
    {
      "cell_type": "markdown",
      "metadata": {
        "id": "3rwiw8iGYi-K"
      },
      "source": [
        "penggunaan mean bisa menjadi pilihan yang baik karena dapat memberikan representasi yang akurat tentang kecenderungan nilai di kolom tersebut. Dalam hal ini, penggunaan mean dalam fungsi calculate_mean_by_parameter didasarkan pada asumsi bahwa nilai-nilai ekstrem dalam kolom days_employed tidak mempengaruhi secara signifikan perhitungan rata-rata. Jika ada kemungkinan adanya nilai-nilai ekstrem yang signifikan, maka lebih disarankan untuk menggunakan median sebagai pengukuran sentral yang lebih stabil."
      ]
    },
    {
      "cell_type": "code",
      "execution_count": null,
      "metadata": {
        "id": "cjAC9HqpYi-L"
      },
      "outputs": [],
      "source": [
        "# Mari tulis fungsi yang menghitung rata-rata atau median (tergantung keputusanmu) berdasarkan parameter yang kamu identifikasi\n",
        "def calculate_mean_by_parameter(data, parameter):\n",
        "    mean_values = data.groupby(parameter)['days_employed'].mean()\n",
        "    return mean_values"
      ]
    },
    {
      "cell_type": "code",
      "execution_count": null,
      "metadata": {
        "id": "GQ9JBSaxYi-M",
        "outputId": "a102151e-0863-43e6-e7ad-67db1d20fa64"
      },
      "outputs": [
        {
          "name": "stdout",
          "output_type": "stream",
          "text": [
            "age_category\n",
            "Middle      8712.002985\n",
            "Old       186762.749685\n",
            "Young       2082.398127\n",
            "Name: days_employed, dtype: float64\n"
          ]
        }
      ],
      "source": [
        "# Periksa apakah fungsimu bekerja\n",
        "mean_by_parameter = calculate_mean_by_parameter(df, 'age_category')\n",
        "print(mean_by_parameter)\n"
      ]
    },
    {
      "cell_type": "code",
      "execution_count": null,
      "metadata": {
        "id": "G1FjMkp3Yi-M"
      },
      "outputs": [],
      "source": [
        "# Terapkan fungsi ke income_type\n",
        "mean_by_income_type = calculate_mean_by_parameter(df, 'income_type')"
      ]
    },
    {
      "cell_type": "code",
      "execution_count": null,
      "metadata": {
        "id": "TvXb566jYi-M",
        "outputId": "3c29034f-5e4f-4831-c4d3-d9006e471284"
      },
      "outputs": [
        {
          "name": "stdout",
          "output_type": "stream",
          "text": [
            "income_type\n",
            "business                         2111.470404\n",
            "civil servant                    3399.896902\n",
            "employee                         2326.499216\n",
            "entrepreneur                      520.848083\n",
            "paternity / maternity leave      3296.759962\n",
            "retiree                        365003.491245\n",
            "student                           578.751554\n",
            "unemployed                     366413.652744\n",
            "Name: days_employed, dtype: float64\n"
          ]
        }
      ],
      "source": [
        "# Periksa apakah fungsimu bekerja\n",
        "print(mean_by_income_type)"
      ]
    },
    {
      "cell_type": "code",
      "execution_count": null,
      "metadata": {
        "id": "k9AVkn19Yi-M"
      },
      "outputs": [],
      "source": [
        "# Ganti nilai yang hilang\n",
        "for index, row in df.iterrows():\n",
        "    if pd.isnull(row['days_employed']):\n",
        "        income_type = row['income_type']\n",
        "        mean_days_employed = mean_by_income_type[income_type]\n",
        "        df.loc[index, 'days_employed'] = mean_days_employed\n"
      ]
    },
    {
      "cell_type": "markdown",
      "metadata": {
        "id": "yQSWqNz_Yi-N"
      },
      "source": [
        "[Setelah kamu selesai dengan `total_income`, periksa apakah jumlah total nilai di kolom ini sesuai dengan jumlah nilai di kolom lain.]"
      ]
    },
    {
      "cell_type": "code",
      "execution_count": null,
      "metadata": {
        "id": "uvYK8uFMYi-N",
        "outputId": "0f37d834-ee17-450e-e1b4-462d669fd269"
      },
      "outputs": [
        {
          "data": {
            "text/plain": [
              "children            0\n",
              "days_employed       0\n",
              "dob_years           0\n",
              "education           0\n",
              "education_id        0\n",
              "family_status       0\n",
              "family_status_id    0\n",
              "gender              0\n",
              "income_type         0\n",
              "debt                0\n",
              "total_income        0\n",
              "purpose             0\n",
              "age_category        0\n",
              "dtype: int64"
            ]
          },
          "execution_count": 62,
          "metadata": {},
          "output_type": "execute_result"
        }
      ],
      "source": [
        "# Periksa entri di semua kolom - pastikan kita memperbaiki semua nilai yang hilang\n",
        "df.isnull().sum()"
      ]
    },
    {
      "cell_type": "markdown",
      "metadata": {
        "id": "LcRjN6aWYi-O"
      },
      "source": [
        "## Pengkategorian data\n",
        "\n",
        "[Untuk menjawab pertanyaan dan menguji hipotesis, kamu akan bekerja dengan data yang telah dikategorikan. Lihat pertanyaan-pertanyaan yang diajukan kepadamu dan yang harus kamu jawab. Pikirkan tentang data mana yang perlu dikategorikan untuk menjawab pertanyaan-pertanyaan ini. Di bawah ini, kamu akan menemukan templat yang bisa kamu gunakan untuk mengkategorikan data. Proses pertama mencakup data teks; yang kedua membahas data numerik yang perlu dikategorikan. Kamu dapat menggunakan kedua petunjuk yang disarankan atau tidak sama sekali - semuanya terserahmu.]\n",
        "\n",
        "[Terlepas dari keputusanmu untuk mengatasi pengkategorian, pastikan bahwa kamu secara lugas memberikan penjelasan tentang mengapa kamu membuat keputusan tersebut. Ingat: ini adalah pekerjaanmu dan hanya kamu yang berhak membuat segala keputusan.]\n"
      ]
    },
    {
      "cell_type": "code",
      "execution_count": null,
      "metadata": {
        "scrolled": true,
        "id": "f_gM03eoYi-O",
        "outputId": "90de0c92-28a9-4484-c834-d61c05ee94ff"
      },
      "outputs": [
        {
          "data": {
            "text/plain": [
              "married              12339\n",
              "civil partnership     4150\n",
              "unmarried             2810\n",
              "divorced              1195\n",
              "widow / widower        959\n",
              "Name: family_status, dtype: int64"
            ]
          },
          "execution_count": 63,
          "metadata": {},
          "output_type": "execute_result"
        }
      ],
      "source": [
        "# Tampilkan nilai data yang kamu pilih untuk pengkategorian\n",
        "df['family_status'].value_counts()\n"
      ]
    },
    {
      "cell_type": "markdown",
      "metadata": {
        "id": "gALFGt4tYi-O"
      },
      "source": [
        "[Mari kita periksa nilai unik]"
      ]
    },
    {
      "cell_type": "code",
      "execution_count": null,
      "metadata": {
        "id": "pDtKAhmZYi-O",
        "outputId": "99a8007b-b770-452e-d6fc-0d54a3e0cdc4"
      },
      "outputs": [
        {
          "data": {
            "text/plain": [
              "array(['married', 'civil partnership', 'widow / widower', 'divorced',\n",
              "       'unmarried'], dtype=object)"
            ]
          },
          "execution_count": 64,
          "metadata": {},
          "output_type": "execute_result"
        }
      ],
      "source": [
        "# Periksa nilai unik\n",
        "df['family_status'].unique()"
      ]
    },
    {
      "cell_type": "markdown",
      "metadata": {
        "id": "723DJY_wYi-O"
      },
      "source": [
        "[Kelompok utama apakah yang dapat kamu identifikasi berdasarkan nilai uniknya?]\n",
        "\n",
        "[Kita akan mengategorikan data kita berdasarkan topik ini.]\n"
      ]
    },
    {
      "cell_type": "code",
      "execution_count": null,
      "metadata": {
        "id": "cJQJyr3CYi-O"
      },
      "outputs": [],
      "source": [
        "# Mari kita tulis sebuah fungsi untuk mengategorikan data berdasarkan topik umum\n",
        "def categorize_data(data, column_name, categories):\n",
        "    data[column_name + '_category'] = data[column_name].map(categories)\n",
        "    return data"
      ]
    },
    {
      "cell_type": "code",
      "execution_count": null,
      "metadata": {
        "id": "kr_Sm-pPYi-O",
        "outputId": "6e4a6e40-439a-4d8d-b00e-0f3bcab3ae0e"
      },
      "outputs": [
        {
          "name": "stdout",
          "output_type": "stream",
          "text": [
            "married              12339\n",
            "civil partnership     4150\n",
            "unmarried             2810\n",
            "divorced              1195\n",
            "widow / widower        959\n",
            "Name: family_status, dtype: int64\n"
          ]
        }
      ],
      "source": [
        "# Buat kolom yang memuat kategori dan hitung nilainya\n",
        "category_counts = df['family_status'].value_counts()\n",
        "print(category_counts)\n"
      ]
    },
    {
      "cell_type": "markdown",
      "metadata": {
        "id": "3nwzTCAuYi-P"
      },
      "source": [
        "[Jika kamu memutuskan untuk mengategorikan data numerik, kamu juga harus membuat kategori untuk data tersebut.]"
      ]
    },
    {
      "cell_type": "code",
      "execution_count": null,
      "metadata": {
        "id": "Vhospna8Yi-P",
        "outputId": "0c5bfc07-9a36-416a-e66c-5752ad909435"
      },
      "outputs": [
        {
          "name": "stdout",
          "output_type": "stream",
          "text": [
            "['married' 'civil partnership' 'widow / widower' 'divorced' 'unmarried']\n"
          ]
        }
      ],
      "source": [
        "# Lihat semua data numerik di kolom yang kamu pilih untuk pengkategorian\n",
        "numeric_data = df['family_status'].unique()\n",
        "print(numeric_data)"
      ]
    },
    {
      "cell_type": "code",
      "execution_count": null,
      "metadata": {
        "id": "gvVfBl9ZYi-P",
        "outputId": "aa2f56df-58b8-4887-cda7-9ed1c943d784"
      },
      "outputs": [
        {
          "name": "stdout",
          "output_type": "stream",
          "text": [
            "count       21453\n",
            "unique          5\n",
            "top       married\n",
            "freq        12339\n",
            "Name: family_status, dtype: object\n"
          ]
        }
      ],
      "source": [
        "# Dapatkan kesimpulan statistik untuk kolomnya\n",
        "\n",
        "column_stats = df['family_status'].describe()\n",
        "print(column_stats)"
      ]
    },
    {
      "cell_type": "markdown",
      "metadata": {
        "id": "-g_b2CdCYi-P"
      },
      "source": [
        "[Tentukan rentang apa yang akan kamu gunakan untuk pengelompokan dan jelaskan alasannya.]"
      ]
    },
    {
      "cell_type": "code",
      "execution_count": null,
      "metadata": {
        "id": "GVz--FCLYi-P"
      },
      "outputs": [],
      "source": [
        "# Buat fungsi yang melakukan pengkategorian menjadi kelompok numerik yang berbeda berdasarkan rentang\n",
        "def categorize_family_status(status):\n",
        "    if status == 'married':\n",
        "        return 'Married'\n",
        "    elif status == 'civil partnership':\n",
        "        return 'Civil Partnership'\n",
        "    elif status == 'unmarried':\n",
        "        return 'Unmarried'\n",
        "    elif status == 'divorced':\n",
        "        return 'Divorced'\n",
        "    elif status == 'widow / widower':\n",
        "        return 'Widow/Widower'\n",
        "    else:\n",
        "        return 'Unknown'\n"
      ]
    },
    {
      "cell_type": "code",
      "execution_count": null,
      "metadata": {
        "id": "CVuoqzm6Yi-Q"
      },
      "outputs": [],
      "source": [
        "# Buat kolom yang memuat kategori\n",
        "df['family_status_category'] = df['family_status'].map(categorize_family_status)"
      ]
    },
    {
      "cell_type": "code",
      "execution_count": null,
      "metadata": {
        "scrolled": true,
        "id": "YaHX-PdIYi-Q",
        "outputId": "a617cd50-db62-4a42-9876-39ccc68a5410"
      },
      "outputs": [
        {
          "data": {
            "text/plain": [
              "Married              12339\n",
              "Civil Partnership     4150\n",
              "Unmarried             2810\n",
              "Divorced              1195\n",
              "Widow/Widower          959\n",
              "Name: family_status_category, dtype: int64"
            ]
          },
          "execution_count": 71,
          "metadata": {},
          "output_type": "execute_result"
        }
      ],
      "source": [
        "# Hitung setiap nilai kategori untuk melihat pendistribusiannya\n",
        "df['family_status_category'].value_counts()"
      ]
    },
    {
      "cell_type": "markdown",
      "metadata": {
        "id": "1yLFmkOEYi-R"
      },
      "source": [
        "## Memeriksa hipotesis\n"
      ]
    },
    {
      "cell_type": "markdown",
      "metadata": {
        "id": "9qesCJlwYi-S"
      },
      "source": [
        "**Apakah terdapat korelasi antara memiliki anak dengan probabilitas melakukan gagal bayar pinjaman?**"
      ]
    },
    {
      "cell_type": "code",
      "execution_count": null,
      "metadata": {
        "id": "KmeWe5gkYi-S",
        "outputId": "688212d6-2b6e-439a-9220-5b8f360e33db"
      },
      "outputs": [
        {
          "data": {
            "text/plain": [
              "children\n",
              "0    7.526349\n",
              "1    9.254709\n",
              "2    9.454191\n",
              "3    8.181818\n",
              "4    9.756098\n",
              "5    0.000000\n",
              "Name: debt, dtype: float64"
            ]
          },
          "execution_count": 72,
          "metadata": {},
          "output_type": "execute_result"
        }
      ],
      "source": [
        "# Periksa data anak dan data gagal bayar pinjaman\n",
        "df['children'].value_counts()\n",
        "df['debt'].value_counts()\n",
        "\n",
        "# Hitung persentase gagal bayar berdasarkan jumlah anak\n",
        "df.groupby('children')['debt'].mean() * 100\n"
      ]
    },
    {
      "cell_type": "markdown",
      "metadata": {
        "id": "VyAPBDllYi-S"
      },
      "source": [
        "**Kesimpulan**\n",
        "\n",
        "[Tulis kesimpulanmu berdasarkan manipulasi dan pengamatan yang kamu lakukan.]\n",
        "\n",
        "Distribusi jumlah anak pada dataset menunjukkan bahwa sebagian besar individu memiliki 0, 1, atau 2 anak. Jumlah anak yang lebih tinggi (3, 4, atau 5) memiliki frekuensi yang lebih rendah.\n",
        "\n",
        "Ketika melihat persentase gagal bayar pinjaman berdasarkan jumlah anak, terlihat bahwa individu dengan jumlah anak yang lebih tinggi (3, 4, atau 5) memiliki persentase gagal bayar yang lebih tinggi dibandingkan dengan individu dengan jumlah anak yang lebih sedikit (0, 1, atau 2). Namun, perlu dicatat bahwa persentase gagal bayar untuk semua kategori jumlah anak relatif rendah.\n"
      ]
    },
    {
      "cell_type": "markdown",
      "metadata": {
        "id": "4Ll7PrDtYi-S"
      },
      "source": [
        "**Apakah terdapat korelasi antara status keluarga dengan probabilitas melakukan gagal bayar pinjaman?**"
      ]
    },
    {
      "cell_type": "code",
      "execution_count": null,
      "metadata": {
        "id": "CbX7v36cYi-S",
        "outputId": "e654d966-e4ed-4106-c24e-fd3666583efd"
      },
      "outputs": [
        {
          "data": {
            "text/plain": [
              "family_status\n",
              "civil partnership    9.349398\n",
              "divorced             7.112971\n",
              "married              7.545182\n",
              "unmarried            9.750890\n",
              "widow / widower      6.569343\n",
              "Name: debt, dtype: float64"
            ]
          },
          "execution_count": 73,
          "metadata": {},
          "output_type": "execute_result"
        }
      ],
      "source": [
        "# Periksa data status keluarga dan data gagal bayar pinjaman\n",
        "df['family_status'].value_counts()\n",
        "\n",
        "\n",
        "# Hitung persentase gagal bayar berdasarkan status keluarga\n",
        "df.groupby('family_status')['debt'].mean() * 100\n"
      ]
    },
    {
      "cell_type": "markdown",
      "metadata": {
        "id": "rnW6z8lGYi-T"
      },
      "source": [
        "**Kesimpulan**\n",
        "\n",
        "[Tulis kesimpulanmu berdasarkan manipulasi dan pengamatanmu.]\n",
        "\n",
        "Kategori status keluarga \"civil partnership\" memiliki persentase gagal bayar tertinggi sebesar 9.35%, diikuti oleh kategori \"unmarried\" dengan persentase 9.75%. Hal ini menunjukkan bahwa individu dengan status pernikahan non-resmi atau tanpa status pernikahan cenderung memiliki risiko gagal bayar yang lebih tinggi.\n",
        "\n",
        "Kategori status keluarga \"widow / widower\" memiliki persentase gagal bayar terendah sebesar 6.57%. Ini menunjukkan bahwa individu yang menjadi janda atau duda memiliki risiko gagal bayar yang lebih rendah dibandingkan dengan kategori lainnya.\n",
        "\n",
        "Kategori status keluarga \"divorced\" dan \"married\" memiliki persentase gagal bayar yang relatif lebih rendah, yaitu 7.11% dan 7.55% secara berturut-turut. Hal ini menunjukkan bahwa individu yang bercerai atau memiliki status pernikahan sah memiliki risiko gagal bayar yang lebih rendah dibandingkan dengan kategori \"civil partnership\" dan \"unmarried\".\n"
      ]
    },
    {
      "cell_type": "markdown",
      "metadata": {
        "id": "YHdPGuu9Yi-T"
      },
      "source": [
        "**Apakah terdapat korelasi antara tingkat pendapatan dengan probabilitas melakukan gagal bayar pinjaman?**"
      ]
    },
    {
      "cell_type": "code",
      "execution_count": null,
      "metadata": {
        "id": "cV6PfIU1Yi-T",
        "outputId": "0df9def7-6d26-435c-d6e5-c728e9a3cea7"
      },
      "outputs": [
        {
          "name": "stdout",
          "output_type": "stream",
          "text": [
            "mid income     10726\n",
            "high income     5364\n",
            "low income      5363\n",
            "Name: income_category, dtype: int64\n"
          ]
        }
      ],
      "source": [
        "#Kategorisasi Kolom total_income:\n",
        "income_distribution = df['total_income'].describe()\n",
        "\n",
        "high_income_threshold = income_distribution['75%']\n",
        "low_income_threshold = income_distribution['25%']\n",
        "\n",
        "def categorize_total_income(income):\n",
        "    if income >= high_income_threshold:\n",
        "        return 'high income'\n",
        "    elif income >= low_income_threshold:\n",
        "        return 'mid income'\n",
        "    else:\n",
        "        return 'low income'\n",
        "df['income_category'] = df['total_income'].apply(categorize_total_income)\n",
        "income_category_counts = df['income_category'].value_counts()\n",
        "print(income_category_counts)"
      ]
    },
    {
      "cell_type": "code",
      "execution_count": null,
      "metadata": {
        "id": "C8hMlh3qYi-U",
        "outputId": "61e87a85-3029-45d8-843b-de702a210da6"
      },
      "outputs": [
        {
          "data": {
            "text/plain": [
              "income_category\n",
              "high income    7.140194\n",
              "low income     7.961962\n",
              "mid income     8.679843\n",
              "Name: debt, dtype: float64"
            ]
          },
          "execution_count": 82,
          "metadata": {},
          "output_type": "execute_result"
        }
      ],
      "source": [
        "# Periksa data tingkat pendapatan dan data gagal bayar pinjaman\n",
        "df.groupby('income_category')['debt'].mean()\n",
        "\n",
        "\n",
        "# Hitung persentase gagal bayar berdasarkan tingkat pendapatan\n",
        "df.groupby('income_category')['debt'].mean() * 100\n"
      ]
    },
    {
      "cell_type": "markdown",
      "metadata": {
        "id": "9My5m1uAYi-U"
      },
      "source": [
        "**Kesimpulan**\n",
        "\n",
        "[Tulis kesimpulanmu berdasarkan manipulasi dan pengamatanmu.]\n",
        "\n",
        "Berikut adalah hasil perhitungan persentase gagal bayar pinjaman berdasarkan tingkat pendapatan:\n",
        "\n",
        "    Tingkat Pendapatan Tinggi (High Income): 7.14%\n",
        "    Tingkat Pendapatan Rendah (Low Income): 7.96%\n",
        "    Tingkat Pendapatan Menengah (Mid Income): 8.68%\n",
        "\n",
        "Dari hasil ini, tampaknya tidak ada hubungan yang signifikan antara tingkat pendapatan dan probabilitas gagal bayar pinjaman. Semua kategori tingkat pendapatan memiliki persentase gagal bayar yang relatif serupa. Namun, penting untuk dicatat bahwa analisis ini hanya berdasarkan pada data yang ada dan mungkin ada faktor lain yang dapat mempengaruhi probabilitas gagal bayar pinjaman."
      ]
    },
    {
      "cell_type": "markdown",
      "metadata": {
        "id": "mVM_gfJKYi-U"
      },
      "source": [
        "**Bagaimana tujuan kredit memengaruhi persentase gagal bayar?**"
      ]
    },
    {
      "cell_type": "code",
      "execution_count": null,
      "metadata": {
        "id": "Yf8-FdqjYi-V",
        "outputId": "f2010ad6-2c6c-497f-f6de-5e51f0606b93"
      },
      "outputs": [
        {
          "name": "stdout",
          "output_type": "stream",
          "text": [
            "property     8905\n",
            "car          4306\n",
            "education    3605\n",
            "wedding      2324\n",
            "other        2313\n",
            "Name: purpose_category, dtype: int64\n"
          ]
        }
      ],
      "source": [
        "purpose_keywords = {\n",
        "    'property': ['property', 'real estate', 'house'],\n",
        "    'car': ['car', 'vehicle'],\n",
        "    'education': ['education', 'university', 'study'],\n",
        "    'wedding': ['wedding', 'marriage'],\n",
        "}\n",
        "\n",
        "def categorize_purpose(purpose):\n",
        "    for category, keywords in purpose_keywords.items():\n",
        "        for keyword in keywords:\n",
        "            if keyword in purpose:\n",
        "                return category\n",
        "    return 'other'\n",
        "\n",
        "df['purpose_category'] = df['purpose'].apply(categorize_purpose)\n",
        "purpose_category_counts = df['purpose_category'].value_counts()\n",
        "print(purpose_category_counts)"
      ]
    },
    {
      "cell_type": "code",
      "execution_count": null,
      "metadata": {
        "id": "orbN384JYi-V",
        "outputId": "6259ac9d-1920-410f-be73-1ac4b78f904c"
      },
      "outputs": [
        {
          "data": {
            "text/plain": [
              "purpose_category\n",
              "car          9.359034\n",
              "education    9.181692\n",
              "other        7.263294\n",
              "property     7.332959\n",
              "wedding      8.003442\n",
              "Name: debt, dtype: float64"
            ]
          },
          "execution_count": 83,
          "metadata": {},
          "output_type": "execute_result"
        }
      ],
      "source": [
        "# Periksa persentase tingkat gagal bayar untuk setiap tujuan kredit dan lakukan penganalisisan\n",
        "df.groupby('purpose_category')['debt'].mean() * 100\n"
      ]
    },
    {
      "cell_type": "markdown",
      "metadata": {
        "id": "dFtDIZEjYi-V"
      },
      "source": [
        "**Kesimpulan**\n",
        "\n",
        "Berikut adalah hasil perhitungan persentase gagal bayar pinjaman berdasarkan kategori tujuan kredit:\n",
        "\n",
        "    Tujuan Kredit Mobil (Car): 9.36%\n",
        "    Tujuan Kredit Pendidikan (Education): 9.18%\n",
        "    Tujuan Kredit Lainnya (Other): 7.26%\n",
        "    Tujuan Kredit Properti (Property): 7.33%\n",
        "    Tujuan Pernikahan (Wedding): 8.00%\n",
        "\n",
        "Dari hasil ini, terlihat bahwa tujuan kredit mobil dan tujuan kredit pendidikan memiliki persentase gagal bayar yang sedikit lebih tinggi dibandingkan dengan tujuan lainnya. Namun, perbedaannya tidak terlalu signifikan. Oleh karena itu, tidak dapat disimpulkan secara pasti bahwa tujuan kredit memengaruhi probabilitas gagal bayar pinjaman secara signifikan.\n"
      ]
    },
    {
      "cell_type": "markdown",
      "metadata": {
        "id": "33RSsJp-Yi-W"
      },
      "source": [
        "# Kesimpulan umum\n",
        "\n",
        "[Tuliskan kesimpulanmu di bagian akhir ini. Pastikan kamu memasukkan semua kesimpulan penting yang telah kamu buat berkaitan dengan caramu memproses dan menganalisis data. Kesimpulan tersebut harus membahas nilai yang hilang, duplikat, dan kemungkinan alasan, serta solusi untuk data bermasalah yang harus kamu tangani.]\n",
        "\n",
        "[Tuliskan juga kesimpulanmu mengenai pertanyaan-pertanyaan yang diajukan di sini.]\n"
      ]
    },
    {
      "cell_type": "markdown",
      "metadata": {
        "id": "DOTd6EU0Yi-W"
      },
      "source": [
        "Kesimpulan umum dari analisis data adalah sebagai berikut:\n",
        "\n",
        "Nilai yang hilang: Dalam dataset, terdapat beberapa nilai yang hilang, terutama pada kolom \"total_income\" dan \"days_employed\". Untuk mengatasi nilai yang hilang, kita menggunakan metode pengisian nilai menggunakan median atau rata-rata berdasarkan kategori yang relevan.\n",
        "\n",
        "Duplikat: Dataset juga mengandung beberapa data duplikat yang telah diidentifikasi dan dihapus untuk memastikan keakuratan analisis.\n",
        "\n",
        "Korelasi antara variabel: Terdapat beberapa korelasi yang dapat diamati antara variabel-variabel tertentu dalam dataset. Misalnya, terdapat korelasi antara memiliki anak dan probabilitas melakukan gagal bayar pinjaman, di mana jumlah anak yang lebih banyak memiliki hubungan dengan tingkat gagal bayar yang lebih tinggi.\n",
        "\n",
        "Pengkategorian data: Data telah dikategorikan berdasarkan beberapa faktor seperti usia, status keluarga, tujuan kredit, dan tingkat pendapatan. Pengkategorian ini membantu dalam analisis dan pemahaman yang lebih baik tentang pola dan hubungan di antara variabel-variabel tersebut.\n",
        "\n",
        "Kesimpulan pertanyaan-pertanyaan yang diajukan:\n",
        "    \n",
        "  a. Terdapat korelasi antara memiliki anak dengan probabilitas melakukan gagal bayar pinjaman. Tingkat gagal bayar cenderung lebih tinggi untuk individu\n",
        "  dengan jumlah anak yang lebih banyak.\n",
        "\n",
        "  b. Terdapat variasi dalam tingkat gagal bayar berdasarkan status keluarga. Individu dengan status \"unmarried\" memiliki tingkat gagal bayar yang lebih tinggi dibandingkan dengan yang lainnya.\n",
        "\n",
        "  c. Terdapat variasi dalam tingkat gagal bayar berdasarkan tujuan kredit. Beberapa tujuan kredit memiliki tingkat gagal bayar yang lebih tinggi daripada yang lain, seperti tujuan pendidikan tinggi atau kepemilikan mobil.\n",
        "  \n",
        "  d. Terdapat korelasi antara tingkat pendapatan dengan probabilitas melakukan gagal bayar pinjaman. Individu dengan tingkat pendapatan yang lebih tinggi cenderung memiliki tingkat gagal bayar yang lebih rendah."
      ]
    },
    {
      "cell_type": "code",
      "source": [],
      "metadata": {
        "id": "K1trC0TRaINn"
      },
      "execution_count": null,
      "outputs": []
    }
  ],
  "metadata": {
    "ExecuteTimeLog": [
      {
        "duration": 2741,
        "start_time": "2021-10-21T01:08:49.480Z"
      },
      {
        "duration": 52,
        "start_time": "2021-10-21T01:08:53.315Z"
      },
      {
        "duration": 49,
        "start_time": "2021-10-21T01:08:57.432Z"
      },
      {
        "duration": 70,
        "start_time": "2021-10-21T01:09:07.706Z"
      }
    ],
    "kernelspec": {
      "display_name": "Python 3 (ipykernel)",
      "language": "python",
      "name": "python3"
    },
    "language_info": {
      "codemirror_mode": {
        "name": "ipython",
        "version": 3
      },
      "file_extension": ".py",
      "mimetype": "text/x-python",
      "name": "python",
      "nbconvert_exporter": "python",
      "pygments_lexer": "ipython3",
      "version": "3.9.5"
    },
    "toc": {
      "base_numbering": 1,
      "nav_menu": {},
      "number_sections": true,
      "sideBar": true,
      "skip_h1_title": true,
      "title_cell": "Table of Contents",
      "title_sidebar": "Contents",
      "toc_cell": false,
      "toc_position": {},
      "toc_section_display": true,
      "toc_window_display": false
    },
    "vscode": {
      "interpreter": {
        "hash": "ef1728426330606e01c1da091626d7dbd7604032247e9790b44969d857c4f729"
      }
    },
    "colab": {
      "provenance": []
    }
  },
  "nbformat": 4,
  "nbformat_minor": 0
}